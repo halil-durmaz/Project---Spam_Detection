{
 "cells": [
  {
   "cell_type": "markdown",
   "metadata": {
    "id": "XOR9SNA5L6IC"
   },
   "source": [
    "# <font color=\"red\"> <font size=\"10px\"> IMPORTING THE LIBRARIES </font>"
   ]
  },
  {
   "cell_type": "code",
   "execution_count": null,
   "metadata": {
    "id": "8Qiu_jA5L6IC"
   },
   "outputs": [],
   "source": [
    "# Essentials\n",
    "import pandas as pd\n",
    "import numpy as np                                               \n",
    "\n",
    "\n",
    "# Tools\n",
    "from sklearn.model_selection import train_test_split             # To split the dataset into \"Training set\" and \"Testing set\"\n",
    "from sklearn.model_selection import cross_val_score\n",
    "from sklearn.preprocessing import MinMaxScaler\n",
    "\n",
    "\n",
    "# Models - ML \n",
    "from sklearn.tree import DecisionTreeClassifier\n",
    "from sklearn.linear_model import LogisticRegression\n",
    "# Models - DL\n",
    "from keras.models import Sequential                              # To define the NN model. We will create a \"Sequential\" model via this                   \n",
    "from keras.layers import Dense                                   # To define the NN model. We will use \"fully connected\" Layers\n",
    "\n",
    "\n",
    "# Metrics\n",
    "from sklearn.metrics import confusion_matrix, accuracy_score, roc_curve, auc\n",
    "\n",
    "\n",
    "# Visualization helpers\n",
    "import matplotlib.pyplot as plt                                  # To create visualizations (Boxplots etc.)\n",
    "import seaborn as sns                                            # To create visualizations\n",
    "import graphviz\n",
    "from sklearn.tree import export_graphviz\n",
    "from sklearn.metrics import ConfusionMatrixDisplay"
   ]
  },
  {
   "cell_type": "markdown",
   "metadata": {
    "id": "dGn6cojmOPQs"
   },
   "source": [
    "<br>\n",
    "<br>\n",
    "<br>\n",
    "<br>\n",
    "<br>\n",
    "<br>\n",
    "<br>\n",
    "<br>\n",
    "<br>\n",
    "<br>\n",
    "<br>\n",
    "\n",
    "# <font color=\"red\"> <font size=\"10px\"> IMPORTING THE DATASET & GLANCING </font>"
   ]
  },
  {
   "cell_type": "markdown",
   "metadata": {
    "id": "n8oK34mINZZJ"
   },
   "source": [
    "- This .csv dataset has been created by combining the shared files in the related UCI repository"
   ]
  },
  {
   "cell_type": "code",
   "execution_count": null,
   "metadata": {
    "id": "EwXsAHO0lGtd"
   },
   "outputs": [],
   "source": [
    "dataset = pd.read_csv(\"https://raw.githubusercontent.com/halil-durmaz/Project---Spam_Detection/main/Data.csv\",\n",
    "                      delimiter=\";\")           # Within the dataset, values are delimited by \";\""
   ]
  },
  {
   "cell_type": "code",
   "execution_count": null,
   "metadata": {
    "colab": {
     "base_uri": "https://localhost:8080/"
    },
    "id": "XMyU2KgiUPFy",
    "outputId": "6a20855c-b046-48f4-fdb9-89bba304e417"
   },
   "outputs": [
    {
     "data": {
      "text/plain": [
       "(4601, 58)"
      ]
     },
     "execution_count": 3,
     "metadata": {},
     "output_type": "execute_result"
    }
   ],
   "source": [
    "# Dimensions of the dataset\n",
    "dataset.shape"
   ]
  },
  {
   "cell_type": "markdown",
   "metadata": {
    "id": "-zohS8H3UZ2e"
   },
   "source": [
    "- 4601 rows\n",
    "- 58 columns"
   ]
  },
  {
   "cell_type": "code",
   "execution_count": null,
   "metadata": {
    "colab": {
     "base_uri": "https://localhost:8080/",
     "height": 224
    },
    "id": "AmLVZazhog8R",
    "outputId": "e4058267-f8c7-4b46-ba27-67bf7afc9ef6"
   },
   "outputs": [
    {
     "data": {
      "text/html": [
       "<div>\n",
       "<style scoped>\n",
       "    .dataframe tbody tr th:only-of-type {\n",
       "        vertical-align: middle;\n",
       "    }\n",
       "\n",
       "    .dataframe tbody tr th {\n",
       "        vertical-align: top;\n",
       "    }\n",
       "\n",
       "    .dataframe thead th {\n",
       "        text-align: right;\n",
       "    }\n",
       "</style>\n",
       "<table border=\"1\" class=\"dataframe\">\n",
       "  <thead>\n",
       "    <tr style=\"text-align: right;\">\n",
       "      <th></th>\n",
       "      <th>word_freq_make</th>\n",
       "      <th>word_freq_address</th>\n",
       "      <th>word_freq_all</th>\n",
       "      <th>word_freq_3d</th>\n",
       "      <th>word_freq_our</th>\n",
       "      <th>word_freq_over</th>\n",
       "      <th>word_freq_remove</th>\n",
       "      <th>word_freq_internet</th>\n",
       "      <th>word_freq_order</th>\n",
       "      <th>word_freq_mail</th>\n",
       "      <th>word_freq_receive</th>\n",
       "      <th>word_freq_will</th>\n",
       "      <th>word_freq_people</th>\n",
       "      <th>word_freq_report</th>\n",
       "      <th>word_freq_addresses</th>\n",
       "      <th>word_freq_free</th>\n",
       "      <th>word_freq_business</th>\n",
       "      <th>word_freq_email</th>\n",
       "      <th>word_freq_you</th>\n",
       "      <th>word_freq_credit</th>\n",
       "      <th>word_freq_your</th>\n",
       "      <th>word_freq_font</th>\n",
       "      <th>word_freq_000</th>\n",
       "      <th>word_freq_money</th>\n",
       "      <th>word_freq_hp</th>\n",
       "      <th>word_freq_hpl</th>\n",
       "      <th>word_freq_george</th>\n",
       "      <th>word_freq_650</th>\n",
       "      <th>word_freq_lab</th>\n",
       "      <th>word_freq_labs</th>\n",
       "      <th>word_freq_telnet</th>\n",
       "      <th>word_freq_857</th>\n",
       "      <th>word_freq_data</th>\n",
       "      <th>word_freq_415</th>\n",
       "      <th>word_freq_85</th>\n",
       "      <th>word_freq_technology</th>\n",
       "      <th>word_freq_1999</th>\n",
       "      <th>word_freq_parts</th>\n",
       "      <th>word_freq_pm</th>\n",
       "      <th>word_freq_direct</th>\n",
       "      <th>word_freq_cs</th>\n",
       "      <th>word_freq_meeting</th>\n",
       "      <th>word_freq_original</th>\n",
       "      <th>word_freq_project</th>\n",
       "      <th>word_freq_re</th>\n",
       "      <th>word_freq_edu</th>\n",
       "      <th>word_freq_table</th>\n",
       "      <th>word_freq_conference</th>\n",
       "      <th>char_freq_;</th>\n",
       "      <th>char_freq_(</th>\n",
       "      <th>char_freq_[</th>\n",
       "      <th>char_freq_!</th>\n",
       "      <th>char_freq_$</th>\n",
       "      <th>char_freq_#</th>\n",
       "      <th>capital_run_length_average</th>\n",
       "      <th>capital_run_length_longest</th>\n",
       "      <th>capital_run_length_total</th>\n",
       "      <th>Class</th>\n",
       "    </tr>\n",
       "  </thead>\n",
       "  <tbody>\n",
       "    <tr>\n",
       "      <th>0</th>\n",
       "      <td>0.00</td>\n",
       "      <td>0.64</td>\n",
       "      <td>0.64</td>\n",
       "      <td>0.0</td>\n",
       "      <td>0.32</td>\n",
       "      <td>0.00</td>\n",
       "      <td>0.00</td>\n",
       "      <td>0.00</td>\n",
       "      <td>0.00</td>\n",
       "      <td>0.00</td>\n",
       "      <td>0.00</td>\n",
       "      <td>0.64</td>\n",
       "      <td>0.00</td>\n",
       "      <td>0.00</td>\n",
       "      <td>0.00</td>\n",
       "      <td>0.32</td>\n",
       "      <td>0.00</td>\n",
       "      <td>1.29</td>\n",
       "      <td>1.93</td>\n",
       "      <td>0.00</td>\n",
       "      <td>0.96</td>\n",
       "      <td>0.0</td>\n",
       "      <td>0.00</td>\n",
       "      <td>0.00</td>\n",
       "      <td>0.0</td>\n",
       "      <td>0.0</td>\n",
       "      <td>0.0</td>\n",
       "      <td>0.0</td>\n",
       "      <td>0.0</td>\n",
       "      <td>0.0</td>\n",
       "      <td>0.0</td>\n",
       "      <td>0.0</td>\n",
       "      <td>0.0</td>\n",
       "      <td>0.0</td>\n",
       "      <td>0.0</td>\n",
       "      <td>0.0</td>\n",
       "      <td>0.00</td>\n",
       "      <td>0.0</td>\n",
       "      <td>0.0</td>\n",
       "      <td>0.00</td>\n",
       "      <td>0.0</td>\n",
       "      <td>0.0</td>\n",
       "      <td>0.00</td>\n",
       "      <td>0.0</td>\n",
       "      <td>0.00</td>\n",
       "      <td>0.00</td>\n",
       "      <td>0.0</td>\n",
       "      <td>0.0</td>\n",
       "      <td>0.00</td>\n",
       "      <td>0.000</td>\n",
       "      <td>0.0</td>\n",
       "      <td>0.778</td>\n",
       "      <td>0.000</td>\n",
       "      <td>0.000</td>\n",
       "      <td>3.756</td>\n",
       "      <td>61</td>\n",
       "      <td>278</td>\n",
       "      <td>1</td>\n",
       "    </tr>\n",
       "    <tr>\n",
       "      <th>1</th>\n",
       "      <td>0.21</td>\n",
       "      <td>0.28</td>\n",
       "      <td>0.50</td>\n",
       "      <td>0.0</td>\n",
       "      <td>0.14</td>\n",
       "      <td>0.28</td>\n",
       "      <td>0.21</td>\n",
       "      <td>0.07</td>\n",
       "      <td>0.00</td>\n",
       "      <td>0.94</td>\n",
       "      <td>0.21</td>\n",
       "      <td>0.79</td>\n",
       "      <td>0.65</td>\n",
       "      <td>0.21</td>\n",
       "      <td>0.14</td>\n",
       "      <td>0.14</td>\n",
       "      <td>0.07</td>\n",
       "      <td>0.28</td>\n",
       "      <td>3.47</td>\n",
       "      <td>0.00</td>\n",
       "      <td>1.59</td>\n",
       "      <td>0.0</td>\n",
       "      <td>0.43</td>\n",
       "      <td>0.43</td>\n",
       "      <td>0.0</td>\n",
       "      <td>0.0</td>\n",
       "      <td>0.0</td>\n",
       "      <td>0.0</td>\n",
       "      <td>0.0</td>\n",
       "      <td>0.0</td>\n",
       "      <td>0.0</td>\n",
       "      <td>0.0</td>\n",
       "      <td>0.0</td>\n",
       "      <td>0.0</td>\n",
       "      <td>0.0</td>\n",
       "      <td>0.0</td>\n",
       "      <td>0.07</td>\n",
       "      <td>0.0</td>\n",
       "      <td>0.0</td>\n",
       "      <td>0.00</td>\n",
       "      <td>0.0</td>\n",
       "      <td>0.0</td>\n",
       "      <td>0.00</td>\n",
       "      <td>0.0</td>\n",
       "      <td>0.00</td>\n",
       "      <td>0.00</td>\n",
       "      <td>0.0</td>\n",
       "      <td>0.0</td>\n",
       "      <td>0.00</td>\n",
       "      <td>0.132</td>\n",
       "      <td>0.0</td>\n",
       "      <td>0.372</td>\n",
       "      <td>0.180</td>\n",
       "      <td>0.048</td>\n",
       "      <td>5.114</td>\n",
       "      <td>101</td>\n",
       "      <td>1028</td>\n",
       "      <td>1</td>\n",
       "    </tr>\n",
       "    <tr>\n",
       "      <th>2</th>\n",
       "      <td>0.06</td>\n",
       "      <td>0.00</td>\n",
       "      <td>0.71</td>\n",
       "      <td>0.0</td>\n",
       "      <td>1.23</td>\n",
       "      <td>0.19</td>\n",
       "      <td>0.19</td>\n",
       "      <td>0.12</td>\n",
       "      <td>0.64</td>\n",
       "      <td>0.25</td>\n",
       "      <td>0.38</td>\n",
       "      <td>0.45</td>\n",
       "      <td>0.12</td>\n",
       "      <td>0.00</td>\n",
       "      <td>1.75</td>\n",
       "      <td>0.06</td>\n",
       "      <td>0.06</td>\n",
       "      <td>1.03</td>\n",
       "      <td>1.36</td>\n",
       "      <td>0.32</td>\n",
       "      <td>0.51</td>\n",
       "      <td>0.0</td>\n",
       "      <td>1.16</td>\n",
       "      <td>0.06</td>\n",
       "      <td>0.0</td>\n",
       "      <td>0.0</td>\n",
       "      <td>0.0</td>\n",
       "      <td>0.0</td>\n",
       "      <td>0.0</td>\n",
       "      <td>0.0</td>\n",
       "      <td>0.0</td>\n",
       "      <td>0.0</td>\n",
       "      <td>0.0</td>\n",
       "      <td>0.0</td>\n",
       "      <td>0.0</td>\n",
       "      <td>0.0</td>\n",
       "      <td>0.00</td>\n",
       "      <td>0.0</td>\n",
       "      <td>0.0</td>\n",
       "      <td>0.06</td>\n",
       "      <td>0.0</td>\n",
       "      <td>0.0</td>\n",
       "      <td>0.12</td>\n",
       "      <td>0.0</td>\n",
       "      <td>0.06</td>\n",
       "      <td>0.06</td>\n",
       "      <td>0.0</td>\n",
       "      <td>0.0</td>\n",
       "      <td>0.01</td>\n",
       "      <td>0.143</td>\n",
       "      <td>0.0</td>\n",
       "      <td>0.276</td>\n",
       "      <td>0.184</td>\n",
       "      <td>0.010</td>\n",
       "      <td>9.821</td>\n",
       "      <td>485</td>\n",
       "      <td>2259</td>\n",
       "      <td>1</td>\n",
       "    </tr>\n",
       "    <tr>\n",
       "      <th>3</th>\n",
       "      <td>0.00</td>\n",
       "      <td>0.00</td>\n",
       "      <td>0.00</td>\n",
       "      <td>0.0</td>\n",
       "      <td>0.63</td>\n",
       "      <td>0.00</td>\n",
       "      <td>0.31</td>\n",
       "      <td>0.63</td>\n",
       "      <td>0.31</td>\n",
       "      <td>0.63</td>\n",
       "      <td>0.31</td>\n",
       "      <td>0.31</td>\n",
       "      <td>0.31</td>\n",
       "      <td>0.00</td>\n",
       "      <td>0.00</td>\n",
       "      <td>0.31</td>\n",
       "      <td>0.00</td>\n",
       "      <td>0.00</td>\n",
       "      <td>3.18</td>\n",
       "      <td>0.00</td>\n",
       "      <td>0.31</td>\n",
       "      <td>0.0</td>\n",
       "      <td>0.00</td>\n",
       "      <td>0.00</td>\n",
       "      <td>0.0</td>\n",
       "      <td>0.0</td>\n",
       "      <td>0.0</td>\n",
       "      <td>0.0</td>\n",
       "      <td>0.0</td>\n",
       "      <td>0.0</td>\n",
       "      <td>0.0</td>\n",
       "      <td>0.0</td>\n",
       "      <td>0.0</td>\n",
       "      <td>0.0</td>\n",
       "      <td>0.0</td>\n",
       "      <td>0.0</td>\n",
       "      <td>0.00</td>\n",
       "      <td>0.0</td>\n",
       "      <td>0.0</td>\n",
       "      <td>0.00</td>\n",
       "      <td>0.0</td>\n",
       "      <td>0.0</td>\n",
       "      <td>0.00</td>\n",
       "      <td>0.0</td>\n",
       "      <td>0.00</td>\n",
       "      <td>0.00</td>\n",
       "      <td>0.0</td>\n",
       "      <td>0.0</td>\n",
       "      <td>0.00</td>\n",
       "      <td>0.137</td>\n",
       "      <td>0.0</td>\n",
       "      <td>0.137</td>\n",
       "      <td>0.000</td>\n",
       "      <td>0.000</td>\n",
       "      <td>3.537</td>\n",
       "      <td>40</td>\n",
       "      <td>191</td>\n",
       "      <td>1</td>\n",
       "    </tr>\n",
       "    <tr>\n",
       "      <th>4</th>\n",
       "      <td>0.00</td>\n",
       "      <td>0.00</td>\n",
       "      <td>0.00</td>\n",
       "      <td>0.0</td>\n",
       "      <td>0.63</td>\n",
       "      <td>0.00</td>\n",
       "      <td>0.31</td>\n",
       "      <td>0.63</td>\n",
       "      <td>0.31</td>\n",
       "      <td>0.63</td>\n",
       "      <td>0.31</td>\n",
       "      <td>0.31</td>\n",
       "      <td>0.31</td>\n",
       "      <td>0.00</td>\n",
       "      <td>0.00</td>\n",
       "      <td>0.31</td>\n",
       "      <td>0.00</td>\n",
       "      <td>0.00</td>\n",
       "      <td>3.18</td>\n",
       "      <td>0.00</td>\n",
       "      <td>0.31</td>\n",
       "      <td>0.0</td>\n",
       "      <td>0.00</td>\n",
       "      <td>0.00</td>\n",
       "      <td>0.0</td>\n",
       "      <td>0.0</td>\n",
       "      <td>0.0</td>\n",
       "      <td>0.0</td>\n",
       "      <td>0.0</td>\n",
       "      <td>0.0</td>\n",
       "      <td>0.0</td>\n",
       "      <td>0.0</td>\n",
       "      <td>0.0</td>\n",
       "      <td>0.0</td>\n",
       "      <td>0.0</td>\n",
       "      <td>0.0</td>\n",
       "      <td>0.00</td>\n",
       "      <td>0.0</td>\n",
       "      <td>0.0</td>\n",
       "      <td>0.00</td>\n",
       "      <td>0.0</td>\n",
       "      <td>0.0</td>\n",
       "      <td>0.00</td>\n",
       "      <td>0.0</td>\n",
       "      <td>0.00</td>\n",
       "      <td>0.00</td>\n",
       "      <td>0.0</td>\n",
       "      <td>0.0</td>\n",
       "      <td>0.00</td>\n",
       "      <td>0.135</td>\n",
       "      <td>0.0</td>\n",
       "      <td>0.135</td>\n",
       "      <td>0.000</td>\n",
       "      <td>0.000</td>\n",
       "      <td>3.537</td>\n",
       "      <td>40</td>\n",
       "      <td>191</td>\n",
       "      <td>1</td>\n",
       "    </tr>\n",
       "  </tbody>\n",
       "</table>\n",
       "</div>"
      ],
      "text/plain": [
       "   word_freq_make  word_freq_address  ...  capital_run_length_total  Class\n",
       "0            0.00               0.64  ...                       278      1\n",
       "1            0.21               0.28  ...                      1028      1\n",
       "2            0.06               0.00  ...                      2259      1\n",
       "3            0.00               0.00  ...                       191      1\n",
       "4            0.00               0.00  ...                       191      1\n",
       "\n",
       "[5 rows x 58 columns]"
      ]
     },
     "execution_count": 4,
     "metadata": {},
     "output_type": "execute_result"
    }
   ],
   "source": [
    "# Show the first 5 rows of the dataset, in order to have a general idea about the dataset\n",
    "dataset.head(5)"
   ]
  },
  {
   "cell_type": "code",
   "execution_count": null,
   "metadata": {
    "colab": {
     "base_uri": "https://localhost:8080/"
    },
    "id": "OmDffRNQA4ZB",
    "outputId": "27a2d15b-343a-4cef-e668-bf6af4b8322a"
   },
   "outputs": [
    {
     "data": {
      "text/plain": [
       "['word_freq_make',\n",
       " 'word_freq_address',\n",
       " 'word_freq_all',\n",
       " 'word_freq_3d',\n",
       " 'word_freq_our',\n",
       " 'word_freq_over',\n",
       " 'word_freq_remove',\n",
       " 'word_freq_internet',\n",
       " 'word_freq_order',\n",
       " 'word_freq_mail',\n",
       " 'word_freq_receive',\n",
       " 'word_freq_will',\n",
       " 'word_freq_people',\n",
       " 'word_freq_report',\n",
       " 'word_freq_addresses',\n",
       " 'word_freq_free',\n",
       " 'word_freq_business',\n",
       " 'word_freq_email',\n",
       " 'word_freq_you',\n",
       " 'word_freq_credit',\n",
       " 'word_freq_your',\n",
       " 'word_freq_font',\n",
       " 'word_freq_000',\n",
       " 'word_freq_money',\n",
       " 'word_freq_hp',\n",
       " 'word_freq_hpl',\n",
       " 'word_freq_george',\n",
       " 'word_freq_650',\n",
       " 'word_freq_lab',\n",
       " 'word_freq_labs',\n",
       " 'word_freq_telnet',\n",
       " 'word_freq_857',\n",
       " 'word_freq_data',\n",
       " 'word_freq_415',\n",
       " 'word_freq_85',\n",
       " 'word_freq_technology',\n",
       " 'word_freq_1999',\n",
       " 'word_freq_parts',\n",
       " 'word_freq_pm',\n",
       " 'word_freq_direct',\n",
       " 'word_freq_cs',\n",
       " 'word_freq_meeting',\n",
       " 'word_freq_original',\n",
       " 'word_freq_project',\n",
       " 'word_freq_re',\n",
       " 'word_freq_edu',\n",
       " 'word_freq_table',\n",
       " 'word_freq_conference',\n",
       " 'char_freq_;',\n",
       " 'char_freq_(',\n",
       " 'char_freq_[',\n",
       " 'char_freq_!',\n",
       " 'char_freq_$',\n",
       " 'char_freq_#',\n",
       " 'capital_run_length_average',\n",
       " 'capital_run_length_longest',\n",
       " 'capital_run_length_total',\n",
       " 'Class']"
      ]
     },
     "execution_count": 5,
     "metadata": {},
     "output_type": "execute_result"
    }
   ],
   "source": [
    "# See the features\n",
    "list(dataset)"
   ]
  },
  {
   "cell_type": "markdown",
   "metadata": {
    "id": "B4YXSchP71jz"
   },
   "source": [
    "<br>\n",
    "<br>\n",
    "<br>\n",
    "<br>\n",
    "<br>\n",
    "<br>\n",
    "<br>\n",
    "<br>\n",
    "<br>\n",
    "<br>\n",
    "<br>\n",
    "\n",
    "# <font color=\"red\"> <font size=\"10px\"> DATA PROCESSING </font>"
   ]
  },
  {
   "cell_type": "markdown",
   "metadata": {
    "id": "uCAu6rhsQAI8"
   },
   "source": [
    "## <font color=\"orange\"> <font size=\"5px\"> Duplicate rows </font>\n",
    "\n",
    "\n",
    "- Drop the Duplicate rows, if exists\n",
    "\n",
    "- Since all of the feature values of an instance cannot easily be the same with another instance, we will assume that they are duplicate entries\n",
    "\n",
    "- In order to reduce the redundant amount of row loss, duplicate rows will be dropped before dropping the unwanted columns "
   ]
  },
  {
   "cell_type": "code",
   "execution_count": null,
   "metadata": {
    "colab": {
     "base_uri": "https://localhost:8080/"
    },
    "id": "0rY63KsnIkmd",
    "outputId": "2e14a8f8-4344-4e9c-bfbb-63f1f3bdadb1"
   },
   "outputs": [
    {
     "name": "stdout",
     "output_type": "stream",
     "text": [
      "Amount of duplicate instances ---> 391\n"
     ]
    }
   ],
   "source": [
    "onezero_vector = dataset.duplicated()                                      # \"True\" will be returned for the entirely identical rows\n",
    "print(\"Amount of duplicate instances ---> \" + str(onezero_vector.sum()))   # If we sum those values (1's and 0's), we will obtain the amount of duplicate instances\n",
    "\n",
    "\n",
    "dataset.drop_duplicates(keep=\"first\",                                      # First occurences will be kept; we will update the dataset\n",
    "                        inplace=True)                           "
   ]
  },
  {
   "cell_type": "markdown",
   "metadata": {
    "id": "ElD_Y_jWQjsb"
   },
   "source": [
    "<br>\n",
    "<br>\n",
    "<br>\n",
    "<br>\n",
    "\n",
    "## <font color=\"orange\"> <font size=\"5px\"> Feature selection </font>\n",
    "\n",
    "\n",
    "- Remove the personalized variables, in order to have a General-purpose model at the end\n"
   ]
  },
  {
   "cell_type": "code",
   "execution_count": null,
   "metadata": {
    "colab": {
     "base_uri": "https://localhost:8080/"
    },
    "id": "ZXZqH0GMApwR",
    "outputId": "3a95f4ce-c040-4354-94cc-b3856f1218a8"
   },
   "outputs": [
    {
     "name": "stdout",
     "output_type": "stream",
     "text": [
      "['word_freq_make', 'word_freq_address', 'word_freq_all', 'word_freq_3d', 'word_freq_our', 'word_freq_over', 'word_freq_remove', 'word_freq_internet', 'word_freq_order', 'word_freq_mail', 'word_freq_receive', 'word_freq_will', 'word_freq_people', 'word_freq_report', 'word_freq_addresses', 'word_freq_free', 'word_freq_business', 'word_freq_email', 'word_freq_you', 'word_freq_credit', 'word_freq_your', 'word_freq_font', 'word_freq_000', 'word_freq_money', 'word_freq_hp', 'word_freq_hpl', 'word_freq_george', 'word_freq_650', 'word_freq_lab', 'word_freq_labs', 'word_freq_telnet', 'word_freq_857', 'word_freq_data', 'word_freq_415', 'word_freq_85', 'word_freq_technology', 'word_freq_1999', 'word_freq_parts', 'word_freq_pm', 'word_freq_direct', 'word_freq_cs', 'word_freq_meeting', 'word_freq_original', 'word_freq_project', 'word_freq_re', 'word_freq_edu', 'word_freq_table', 'word_freq_conference', 'char_freq_;', 'char_freq_(', 'char_freq_[', 'char_freq_!', 'char_freq_$', 'char_freq_#', 'capital_run_length_average', 'capital_run_length_longest', 'capital_run_length_total', 'Class']\n"
     ]
    }
   ],
   "source": [
    "print(list(dataset))                         # Seeing them horizontally, allows me to practically copy-paste the column names"
   ]
  },
  {
   "cell_type": "code",
   "execution_count": null,
   "metadata": {
    "id": "6LF1GbwSRu6o"
   },
   "outputs": [],
   "source": [
    "dataset.drop([\"word_freq_3d\", \n",
    "              \"word_freq_000\",\n",
    "              \"word_freq_hp\",\n",
    "              \"word_freq_hpl\",\n",
    "              \"word_freq_george\",\n",
    "              \"word_freq_650\",\n",
    "              \"word_freq_telnet\",\n",
    "              \"word_freq_857\",\n",
    "              \"word_freq_415\",\n",
    "              \"word_freq_85\",\n",
    "              \"word_freq_1999\",\n",
    "              \"word_freq_cs\",\n",
    "              \"word_freq_lab\",\n",
    "              \"word_freq_labs\"\n",
    "              ], \n",
    "              axis=1,                          # Column-wise/Row-wise\n",
    "              inplace=True)                    # DataFrame is modified in place"
   ]
  },
  {
   "cell_type": "markdown",
   "metadata": {
    "id": "mu1NWRnnUPz5"
   },
   "source": [
    "<br>\n",
    "<br>\n",
    "<br>\n",
    "<br>\n",
    "\n",
    "## <font color=\"orange\"> <font size=\"5px\"> Data types </font>\n",
    "\n",
    "\n",
    "- Type of data contained in the variables should be checked"
   ]
  },
  {
   "cell_type": "code",
   "execution_count": null,
   "metadata": {
    "colab": {
     "base_uri": "https://localhost:8080/"
    },
    "id": "8j_Lvqx61fdV",
    "outputId": "f2685c25-462f-4eed-91cf-8648994736ef"
   },
   "outputs": [
    {
     "data": {
      "text/plain": [
       "word_freq_make                float64\n",
       "word_freq_address             float64\n",
       "word_freq_all                 float64\n",
       "word_freq_our                 float64\n",
       "word_freq_over                float64\n",
       "word_freq_remove              float64\n",
       "word_freq_internet            float64\n",
       "word_freq_order               float64\n",
       "word_freq_mail                float64\n",
       "word_freq_receive             float64\n",
       "word_freq_will                float64\n",
       "word_freq_people              float64\n",
       "word_freq_report              float64\n",
       "word_freq_addresses           float64\n",
       "word_freq_free                float64\n",
       "word_freq_business            float64\n",
       "word_freq_email               float64\n",
       "word_freq_you                 float64\n",
       "word_freq_credit              float64\n",
       "word_freq_your                float64\n",
       "word_freq_font                float64\n",
       "word_freq_money               float64\n",
       "word_freq_data                float64\n",
       "word_freq_technology          float64\n",
       "word_freq_parts               float64\n",
       "word_freq_pm                  float64\n",
       "word_freq_direct              float64\n",
       "word_freq_meeting             float64\n",
       "word_freq_original            float64\n",
       "word_freq_project             float64\n",
       "word_freq_re                  float64\n",
       "word_freq_edu                 float64\n",
       "word_freq_table               float64\n",
       "word_freq_conference          float64\n",
       "char_freq_;                   float64\n",
       "char_freq_(                   float64\n",
       "char_freq_[                   float64\n",
       "char_freq_!                   float64\n",
       "char_freq_$                   float64\n",
       "char_freq_#                   float64\n",
       "capital_run_length_average    float64\n",
       "capital_run_length_longest      int64\n",
       "capital_run_length_total        int64\n",
       "Class                           int64\n",
       "dtype: object"
      ]
     },
     "execution_count": 9,
     "metadata": {},
     "output_type": "execute_result"
    }
   ],
   "source": [
    "dataset.dtypes"
   ]
  },
  {
   "cell_type": "code",
   "execution_count": null,
   "metadata": {
    "id": "r1hvKwSxFKxX"
   },
   "outputs": [],
   "source": [
    "dataset[[\"Class\"]] = dataset[[\"Class\"]].astype('category')          # Type of \"Class\" should be \"category\""
   ]
  },
  {
   "cell_type": "markdown",
   "metadata": {
    "id": "XvOGIQW_Ut4D"
   },
   "source": [
    "<br>\n",
    "<br>\n",
    "<br>\n",
    "<br>\n",
    "\n",
    "## <font color=\"orange\"> <font size=\"5px\"> Misentry checks </font>"
   ]
  },
  {
   "cell_type": "code",
   "execution_count": null,
   "metadata": {
    "colab": {
     "base_uri": "https://localhost:8080/"
    },
    "id": "7QOzOLhKU_Pm",
    "outputId": "ad61a0c9-ae55-4cb8-acc1-e63e2fcd2533"
   },
   "outputs": [
    {
     "name": "stdout",
     "output_type": "stream",
     "text": [
      "Total amount of columns which has Maximum value bigger than 100 ---> 0\n",
      "Total amount of columns which has Minimum value smaller than 0  ---> 0\n"
     ]
    }
   ],
   "source": [
    "#####################\n",
    "# Check - Max values\n",
    "#####################\n",
    "maxvalues = dataset.iloc[:, 0:40].max(axis=0)                                    # Max values vector of the \"frequency related columns\"\n",
    "maxvalues = maxvalues > 100                                                      # 0-1 vector. Forcing to return \"False (0)\" values since we will sum them to have a conclusion\n",
    "\n",
    "print(\"Total amount of columns which has Maximum value bigger than 100 ---> \" \n",
    "      + str(maxvalues.sum()))\n",
    "\n",
    "\n",
    "#####################\n",
    "# Check - Min values\n",
    "#####################\n",
    "minvalues = dataset.iloc[:, 0:40].min(axis=0)                                    # Min values vector of the \"frequency related columns\"\n",
    "minvalues = minvalues < 0                                                        # 0-1 vector. Forcing to return \"False (0)\" values since we will sum them to have a conclusion\n",
    "\n",
    "print(\"Total amount of columns which has Minimum value smaller than 0  ---> \" \n",
    "      + str(minvalues.sum()))"
   ]
  },
  {
   "cell_type": "markdown",
   "metadata": {
    "id": "J_XEF6lvj12S"
   },
   "source": [
    "- The columns which consist of frequency values have to have values only between 0 and 100. Therefore, we should check whether there is a problem or not\n",
    "<br>\n",
    "\n",
    "- There is no apparent misentry within the related columns\n",
    "\n",
    "<br>\n",
    "<br>\n",
    "<br>\n",
    "<br>"
   ]
  },
  {
   "cell_type": "code",
   "execution_count": null,
   "metadata": {
    "colab": {
     "base_uri": "https://localhost:8080/"
    },
    "id": "WJPpQ1UTFQn3",
    "outputId": "519a2765-e75b-4392-8973-716962aecd4c"
   },
   "outputs": [
    {
     "data": {
      "text/plain": [
       "[1, 0]\n",
       "Categories (2, int64): [1, 0]"
      ]
     },
     "execution_count": 12,
     "metadata": {},
     "output_type": "execute_result"
    }
   ],
   "source": [
    "##################\n",
    "# Check - Classes\n",
    "##################\n",
    "dataset[\"Class\"].unique()"
   ]
  },
  {
   "cell_type": "markdown",
   "metadata": {
    "id": "tPzt95s-FbuH"
   },
   "source": [
    "- Since we will be working on a Binary Classification problem, as we expect, there is no class other than \"1\" and \"0\" within the dataset"
   ]
  },
  {
   "cell_type": "markdown",
   "metadata": {
    "id": "7JhmZV-2AZcT"
   },
   "source": [
    "<br>\n",
    "<br>\n",
    "<br>\n",
    "<br>\n",
    "\n",
    "## <font color=\"orange\"> <font size=\"5px\"> Missing value check </font>"
   ]
  },
  {
   "cell_type": "code",
   "execution_count": null,
   "metadata": {
    "colab": {
     "base_uri": "https://localhost:8080/"
    },
    "id": "mEN-_vS8GDMm",
    "outputId": "50d8f888-4e42-4fd1-97dc-ba283a1c5b73"
   },
   "outputs": [
    {
     "data": {
      "text/plain": [
       "array([0])"
      ]
     },
     "execution_count": 13,
     "metadata": {},
     "output_type": "execute_result"
    }
   ],
   "source": [
    "dataset.isnull().sum().unique()"
   ]
  },
  {
   "cell_type": "markdown",
   "metadata": {
    "id": "8Ggka5GfGSZ-"
   },
   "source": [
    "- Since all of them are equal to 0, we conclude that there is no missing value within the dataset"
   ]
  },
  {
   "cell_type": "markdown",
   "metadata": {
    "id": "1U37D8jDPBDQ"
   },
   "source": [
    "<br>\n",
    "<br>\n",
    "<br>\n",
    "<br>\n",
    "\n",
    "## <font color=\"orange\"> <font size=\"5px\"> Class balance check </font>"
   ]
  },
  {
   "cell_type": "code",
   "execution_count": null,
   "metadata": {
    "colab": {
     "base_uri": "https://localhost:8080/"
    },
    "id": "PDOGdRkVO_I0",
    "outputId": "feb00616-11f4-40ba-bdae-430049fd708e"
   },
   "outputs": [
    {
     "data": {
      "text/plain": [
       "0    2531\n",
       "1    1679\n",
       "Name: Class, dtype: int64"
      ]
     },
     "execution_count": 14,
     "metadata": {},
     "output_type": "execute_result"
    }
   ],
   "source": [
    "# Check the number of instances of Class \"1\" and Class \"0\"\n",
    "dataset[\"Class\"].value_counts()"
   ]
  },
  {
   "cell_type": "markdown",
   "metadata": {
    "id": "OHzbpSVlPS0m"
   },
   "source": [
    "- There is no \"Inbalanced\" situation here"
   ]
  },
  {
   "cell_type": "markdown",
   "metadata": {
    "id": "QS8hjVSTYfFW"
   },
   "source": [
    "<br>\n",
    "<br>\n",
    "<br>\n",
    "<br>\n",
    "<br>\n",
    "<br>\n",
    "<br>\n",
    "<br>\n",
    "<br>\n",
    "<br>\n",
    "<br>\n",
    "\n",
    "# <font color=\"red\"> <font size=\"10px\"> EXPLORATORY DATA ANALYSIS </font>"
   ]
  },
  {
   "cell_type": "markdown",
   "metadata": {
    "id": "q2XdoBjUIZR2"
   },
   "source": [
    "## <font color=\"orange\"> <font size=\"5px\"> Boxplots </font>\n",
    "\n",
    "- \"Class\" variable automatically will not be shown in the Boxplots, since its type is `category`"
   ]
  },
  {
   "cell_type": "code",
   "execution_count": null,
   "metadata": {
    "colab": {
     "base_uri": "https://localhost:8080/",
     "height": 378
    },
    "id": "Ld9wngiwE1l0",
    "outputId": "73584d76-633e-4a63-c519-d9bf162c773b"
   },
   "outputs": [
    {
     "data": {
      "image/png": "[encoded data removed]",
      "text/plain": [
       "<Figure size 1080x360 with 1 Axes>"
      ]
     },
     "metadata": {},
     "output_type": "display_data"
    }
   ],
   "source": [
    "######################################\n",
    "# Boxplot - Each independent variable\n",
    "######################################\n",
    "\n",
    "# Style\n",
    "sns.set(style=\"whitegrid\")                               # Background of the plot\n",
    "\n",
    "\n",
    "# Size of the figure\n",
    "fig, ax = plt.subplots(figsize=(15,5))\n",
    "\n",
    "\n",
    "# Title + Axis Labels\n",
    "plt.title(\"Boxplot of Each Independent Variable\",\n",
    "          fontsize=40,\n",
    "          color=\"#AA0A7E\")\n",
    "\n",
    "plt.xlabel(\"Indexes of the variables\",\n",
    "           fontsize=15,\n",
    "           color=\"#750B9C\")\n",
    "\n",
    "plt.ylabel(\"Values\",\n",
    "           fontsize=15,\n",
    "           color=\"#750B9C\")\n",
    "\n",
    "\n",
    "# Create the boxplots + Specift properties of the boxplots within the figure\n",
    "sns.boxplot(data = dataset,       \n",
    "            width = 0.5,        \n",
    "            color = \"red\",\n",
    "            orient = \"v\"\n",
    "            )         \n",
    "\n",
    "\n",
    "# Labels on the x-axis\n",
    "labels_x = []\n",
    "\n",
    "for i in range(0, len(dataset.columns)-1):     # -1 was not necessary, without that it works too, but wanted to eliminate the categorical variable from the amount\n",
    "         i = str(i)\n",
    "         labels_x.append(i)\n",
    "\n",
    "plt.xticks(np.arange(43),       # How many spots you will have on the axis\n",
    "           labels_x)            # What do you want to put on the axis\n",
    "\n",
    "\n",
    "# Show\n",
    "plt.show()"
   ]
  },
  {
   "cell_type": "markdown",
   "metadata": {
    "id": "m9QNCvuBORb-"
   },
   "source": [
    "- Since the ranges of the last 3 independent variable varies a lot in comparison to the other independent variables, we will need to apply feature scaling. Because, Artificial Neural Networks are sensitive to the scales\n",
    "\n",
    "<br>\n",
    "<br>\n",
    "<br>\n",
    "<br>"
   ]
  },
  {
   "cell_type": "code",
   "execution_count": null,
   "metadata": {
    "colab": {
     "base_uri": "https://localhost:8080/",
     "height": 378
    },
    "id": "LquJUa6mxqGU",
    "outputId": "d9177096-c644-42e5-b675-ee1f15b56abe"
   },
   "outputs": [
    {
     "data": {
      "image/png": "[encoded data removed]",
      "text/plain": [
       "<Figure size 1080x360 with 1 Axes>"
      ]
     },
     "metadata": {},
     "output_type": "display_data"
    }
   ],
   "source": [
    "###################################################################\n",
    "# Boxplot - Word frequency & Character frequency related variables\n",
    "###################################################################\n",
    "\n",
    "# Style\n",
    "sns.set(style=\"whitegrid\")\n",
    "\n",
    "\n",
    "# Size of the figure\n",
    "fig, ax = plt.subplots(figsize=(15,5))\n",
    "\n",
    "\n",
    "# Title + Axis Labels\n",
    "plt.title(\"Boxplot of Frequency Related Variables\",\n",
    "          fontsize=40,\n",
    "          color=\"#AA0A7E\")\n",
    "\n",
    "plt.xlabel(\"Indexes of the variables\",\n",
    "           fontsize=15,\n",
    "           color=\"#750B9C\")\n",
    "\n",
    "plt.ylabel(\"Values\",\n",
    "           fontsize=15,\n",
    "           color=\"#750B9C\")\n",
    "\n",
    "\n",
    "# Create the boxplots + Specify properties of the boxplots within the figure\n",
    "sns.boxplot(data=dataset.iloc[:, 0:dataset.columns.get_loc(\"capital_run_length_average\")],   \n",
    "            width=0.5,        \n",
    "            color=\"red\",\n",
    "            orient=\"v\"\n",
    "            )         \n",
    "\n",
    "\n",
    "# Labels on the x-axis\n",
    "labels_x = []\n",
    "\n",
    "for i in range(0, dataset.columns.get_loc(\"capital_run_length_average\")):  # Index of the last column + 1(Because range() excludes the last value)\n",
    "         i = str(i)\n",
    "         labels_x.append(i)\n",
    "\n",
    "plt.xticks(np.arange(40),       # How many spots you will have on the axis\n",
    "           labels_x)            # What do you want to put on the axis\n",
    "\n",
    "\n",
    "# Show\n",
    "plt.show()"
   ]
  },
  {
   "cell_type": "markdown",
   "metadata": {
    "id": "Rvrj7OXvJ24o"
   },
   "source": [
    "- There are significant amount of outliers within the dataset"
   ]
  },
  {
   "cell_type": "markdown",
   "metadata": {
    "id": "GaoXrL6tIu1K"
   },
   "source": [
    "<br>\n",
    "<br>\n",
    "<br>\n",
    "<br>\n",
    "\n",
    "## <font color=\"orange\"> <font size=\"5px\"> Correlation Analysis  </font>\n",
    "\n",
    "- Categorical variables should be excluded from the correlation analysis. However, since we set \"Class\" variable as categorical, it will not be shown already"
   ]
  },
  {
   "cell_type": "code",
   "execution_count": null,
   "metadata": {
    "id": "8mzzhxWFQi2G"
   },
   "outputs": [],
   "source": [
    "##############################\n",
    "# Correlation matrix creation\n",
    "##############################\n",
    "\n",
    "correlation_matrix = dataset.corr(method=\"spearman\")    # Spearman is used, since the amount of outliers is so high"
   ]
  },
  {
   "cell_type": "code",
   "execution_count": null,
   "metadata": {
    "colab": {
     "base_uri": "https://localhost:8080/",
     "height": 737
    },
    "id": "Fl9eambj6iDj",
    "outputId": "31d58205-b2a9-4f78-ca6f-f52e5d4fd52e"
   },
   "outputs": [
    {
     "data": {
      "image/png": "[encoded data removed]",
      "text/plain": [
       "<Figure size 936x720 with 2 Axes>"
      ]
     },
     "metadata": {},
     "output_type": "display_data"
    }
   ],
   "source": [
    "###################\n",
    "# Heatmap creation\n",
    "###################\n",
    "\n",
    "f = plt.figure(figsize=(13, 10))\n",
    "\n",
    "# creating mask\n",
    "mask = np.triu(np.ones_like(correlation_matrix))\n",
    "  \n",
    "# plotting a triangle correlation heatmap\n",
    "dataplot = sns.heatmap(correlation_matrix, \n",
    "                       cmap=\"YlGnBu\", \n",
    "                       annot=False,                     # Do not show the \"numbers\"\n",
    "                       mask=mask,\n",
    "                       linewidths=.5)"
   ]
  },
  {
   "cell_type": "code",
   "execution_count": null,
   "metadata": {
    "colab": {
     "base_uri": "https://localhost:8080/"
    },
    "id": "vkbNng_7ClYR",
    "outputId": "136d8b15-63aa-4318-d199-ce5fb40e47f4"
   },
   "outputs": [
    {
     "data": {
      "text/plain": [
       "capital_run_length_longest  capital_run_length_average    0.852373\n",
       "capital_run_length_average  capital_run_length_longest    0.852373\n",
       "capital_run_length_total    capital_run_length_longest    0.844915\n",
       "capital_run_length_longest  capital_run_length_total      0.844915\n",
       "capital_run_length_average  capital_run_length_total      0.655681\n",
       "capital_run_length_total    capital_run_length_average    0.655681\n",
       "char_freq_$                 capital_run_length_total      0.514425\n",
       "capital_run_length_total    char_freq_$                   0.514425\n",
       "word_freq_money             char_freq_$                   0.490191\n",
       "char_freq_$                 word_freq_money               0.490191\n",
       "word_freq_order             capital_run_length_total      0.487282\n",
       "capital_run_length_total    word_freq_order               0.487282\n",
       "char_freq_$                 capital_run_length_longest    0.486388\n",
       "capital_run_length_longest  char_freq_$                   0.486388\n",
       "word_freq_your              word_freq_you                 0.458871\n",
       "word_freq_you               word_freq_your                0.458871\n",
       "char_freq_$                 word_freq_order               0.431635\n",
       "word_freq_order             char_freq_$                   0.431635\n",
       "capital_run_length_total    char_freq_#                   0.419771\n",
       "char_freq_#                 capital_run_length_total      0.419771\n",
       "capital_run_length_longest  word_freq_order               0.418624\n",
       "word_freq_order             capital_run_length_longest    0.418624\n",
       "                            word_freq_money               0.416122\n",
       "word_freq_money             word_freq_order               0.416122\n",
       "capital_run_length_total    word_freq_business            0.412501\n",
       "dtype: float64"
      ]
     },
     "execution_count": 19,
     "metadata": {},
     "output_type": "execute_result"
    }
   ],
   "source": [
    "# List the highest correlations\n",
    "correlation_matrix = correlation_matrix.replace(1.0, \n",
    "                                                np.NaN)                 # Get rid of the 1.0's since it does not give any insight\n",
    "\n",
    "correlation_matrix.stack().sort_values(ascending = False).iloc[:25]     # See the highest positively correlated variables"
   ]
  },
  {
   "cell_type": "code",
   "execution_count": null,
   "metadata": {
    "id": "f0--b232gKkf"
   },
   "outputs": [],
   "source": [
    "# Removing the highly correlated variable\n",
    "dataset.drop(['capital_run_length_longest', \n",
    "              ], \n",
    "              axis=1,                             # Column-wise/Row-wise\n",
    "              inplace=True)                       # DataFrame is modified in place"
   ]
  },
  {
   "cell_type": "markdown",
   "metadata": {
    "id": "ku4AXRCzvIZw"
   },
   "source": [
    "<br>\n",
    "<br>\n",
    "<br>\n",
    "<br>\n",
    "<br>\n",
    "<br>\n",
    "<br>\n",
    "<br>\n",
    "<br>\n",
    "<br>\n",
    "<br>\n",
    "\n",
    "# <font color=\"red\"> <font size=\"10px\"> SPLITTING THE DATASET </font>"
   ]
  },
  {
   "cell_type": "code",
   "execution_count": null,
   "metadata": {
    "id": "8znrmQCUwkYQ"
   },
   "outputs": [],
   "source": [
    "# Separate \"Input columns\" and \"Target column\" into different arrays\n",
    "X = dataset.iloc[:, 0:42]       \n",
    "y = dataset.iloc[:, 42]"
   ]
  },
  {
   "cell_type": "markdown",
   "metadata": {
    "id": "7jJ1IzUQBvNe"
   },
   "source": [
    "- Firstly Splitting should be performed, then Scaling, to prevent data leakage\n",
    "<br>\n",
    "\n",
    "- The first model will be a Decision Tree. A Decision Tree does not require scaling; in addition to that, if you scale, since we will lose the \"real values\", the tree will lose its intrepratability"
   ]
  },
  {
   "cell_type": "code",
   "execution_count": null,
   "metadata": {
    "id": "Eao5uTo60VA_"
   },
   "outputs": [],
   "source": [
    "# Training/Validation/Testing split (60/20/20) - It will be required to use the function 2 times\n",
    "X_train, X_test, y_train, y_test = train_test_split(X,\n",
    "                                                    y,\n",
    "                                                    test_size=0.20,   # 20% of the rows will generate our \"Testing Set\"\n",
    "                                                    stratify=y,       # Stratify based on \"y\"\n",
    "                                                    random_state=11)  # Set seed to a specific number to get the same results from every run   \n",
    "\n",
    "X_train, X_val, y_train, y_val = train_test_split(X_train, \n",
    "                                                  y_train, \n",
    "                                                  test_size=0.25,     # 20% of the Training set rows will generate our \"Validation Set\"\n",
    "                                                  stratify=y_train, \n",
    "                                                  random_state=11)     "
   ]
  },
  {
   "cell_type": "code",
   "execution_count": null,
   "metadata": {
    "colab": {
     "base_uri": "https://localhost:8080/"
    },
    "id": "YJFvQG1BOsI3",
    "outputId": "7f34ff12-38f1-4fd5-9630-17278255d7f5"
   },
   "outputs": [
    {
     "name": "stdout",
     "output_type": "stream",
     "text": [
      "Training set\n",
      "0    1519\n",
      "1    1007\n",
      "Name: Class, dtype: int64\n",
      "\n",
      "Validation set\n",
      "0    506\n",
      "1    336\n",
      "Name: Class, dtype: int64\n",
      "\n",
      "Testing set\n",
      "0    506\n",
      "1    336\n",
      "Name: Class, dtype: int64\n"
     ]
    }
   ],
   "source": [
    "# Check the number of instances of Class \"1\" and Class \"0\"\n",
    "print(\"Training set\")\n",
    "print(y_train.value_counts())\n",
    "\n",
    "print()\n",
    "\n",
    "print(\"Validation set\")\n",
    "print(y_val.value_counts())\n",
    "\n",
    "print()\n",
    "\n",
    "print(\"Testing set\")\n",
    "print(y_test.value_counts())"
   ]
  },
  {
   "cell_type": "markdown",
   "metadata": {
    "id": "uTKcNfLEcPdd"
   },
   "source": [
    "<br>\n",
    "<br>\n",
    "<br>\n",
    "<br>\n",
    "<br>\n",
    "<br>\n",
    "<br>\n",
    "<br>\n",
    "<br>\n",
    "<br>\n",
    "\n",
    "# <font color=\"red\"> <font size=\"10px\"> Model #1: DECISION TREE </font>"
   ]
  },
  {
   "cell_type": "markdown",
   "metadata": {
    "id": "VVb5D_sSFgSr"
   },
   "source": [
    "## <font color=\"orange\"> <font size=\"5px\"> Full model </font>\n",
    "\n",
    "- Alpha=0\n",
    "<br>\n",
    "\n",
    "- Since the full model will most likely overfit, this version will not be the optimal version; a pruned version will be the optimal version."
   ]
  },
  {
   "cell_type": "code",
   "execution_count": null,
   "metadata": {
    "colab": {
     "base_uri": "https://localhost:8080/"
    },
    "id": "_q9yOp71cSWj",
    "outputId": "20be42d0-3164-4aef-ded0-0198991d41c8"
   },
   "outputs": [
    {
     "data": {
      "text/plain": [
       "DecisionTreeClassifier(ccp_alpha=0.0, class_weight=None, criterion='gini',\n",
       "                       max_depth=None, max_features=None, max_leaf_nodes=None,\n",
       "                       min_impurity_decrease=0.0, min_impurity_split=None,\n",
       "                       min_samples_leaf=1, min_samples_split=2,\n",
       "                       min_weight_fraction_leaf=0.0, presort='deprecated',\n",
       "                       random_state=11, splitter='best')"
      ]
     },
     "execution_count": 24,
     "metadata": {
      "tags": []
     },
     "output_type": "execute_result"
    }
   ],
   "source": [
    "# Create the model\n",
    "model_decisiontree = DecisionTreeClassifier(criterion=\"gini\",\n",
    "                                            random_state=11)\n",
    "\n",
    "\n",
    "# Train the model\n",
    "model_decisiontree.fit(X_train,\n",
    "                       y_train)  "
   ]
  },
  {
   "cell_type": "markdown",
   "metadata": {
    "id": "rFGS72VqkNb_"
   },
   "source": [
    "<br>\n",
    "<br>\n",
    "<br>\n",
    "<br>\n",
    "\n",
    "## <font color=\"orange\"> <font size=\"5px\"> Cost Complexity Pruning </font>\n",
    "\n",
    "- We will create different Pruned Trees for each available Alpha value for the tree. The purpose is finding the optimal Alpha value\n",
    "<br>\n",
    "\n",
    "- Max value will be excluded. Because, the tree is pruned with that value, it will be completely pruned and only the Root node will left from that pruning"
   ]
  },
  {
   "cell_type": "code",
   "execution_count": null,
   "metadata": {
    "colab": {
     "base_uri": "https://localhost:8080/",
     "height": 378
    },
    "id": "UyCQ_SQ6kMIo",
    "outputId": "7485dbfe-52ab-47a3-a484-4a4612b3b8ab"
   },
   "outputs": [
    {
     "data": {
      "image/png": "[encoded data removed]",
      "text/plain": [
       "<Figure size 1080x360 with 1 Axes>"
      ]
     },
     "metadata": {
      "tags": []
     },
     "output_type": "display_data"
    }
   ],
   "source": [
    "ccp_path = model_decisiontree.cost_complexity_pruning_path(X_train,       # ccp_alphas (available values) & impurities will be returned\n",
    "                                                           y_train)\n",
    "\n",
    "ccp_alphas = ccp_path.ccp_alphas[:-1]                                     # retrieve the Alpha values excluding the maximum value\n",
    "\n",
    "\n",
    "\n",
    "# Create Decision Trees for each Alpha value\n",
    "models_decisiontree = []\n",
    "\n",
    "for alpha in ccp_alphas:\n",
    "          model_decisiontree = DecisionTreeClassifier(criterion=\"gini\",       # Create the model for that specific Alpha value\n",
    "                                                      ccp_alpha=alpha,\n",
    "                                                      random_state=11)\n",
    "          model_decisiontree.fit(X_train,                                     # Train the model\n",
    "                                 y_train)\n",
    "         \n",
    "          models_decisiontree.append(model_decisiontree)                      # Add the model to the List\n",
    "\n",
    "\n",
    "\n",
    "# Gather the accuracy values\n",
    "training_accuracies = []\n",
    "for model_decisiontree in models_decisiontree:\n",
    "          training_accuracies.append(model_decisiontree.score(X_train, y_train))\n",
    "\n",
    "validation_accuracies = []\n",
    "for model_decisiontree in models_decisiontree:\n",
    "          validation_accuracies.append(model_decisiontree.score(X_val, y_val))\n",
    "\n",
    "\n",
    "\n",
    "# Visualize to evaluate\n",
    "fig, ax = plt.subplots(figsize=(15,5))\n",
    "\n",
    "plt.plot(ccp_alphas,\n",
    "         training_accuracies,\n",
    "         label=\"Training accuracy\",\n",
    "         marker=\"o\")\n",
    "\n",
    "plt.plot(ccp_alphas,\n",
    "         validation_accuracies,\n",
    "         label=\"Validation accuracy\",\n",
    "         marker=\"o\")\n",
    "\n",
    "\n",
    "# Title + Axis Labels\n",
    "plt.title(\"Accuracies of the available trees\",\n",
    "          fontsize=40,\n",
    "          color=\"#AA0A7E\")\n",
    "\n",
    "plt.xlabel(\"Alpha values\",\n",
    "           fontsize=15,\n",
    "           color=\"#750B9C\")\n",
    "\n",
    "plt.ylabel(\"Accuracy\",\n",
    "           fontsize=15,\n",
    "           color=\"#750B9C\")\n",
    "\n",
    "plt.legend()\n",
    "\n",
    "plt.show()"
   ]
  },
  {
   "cell_type": "markdown",
   "metadata": {
    "id": "ZpfzlQsA8Ldn"
   },
   "source": [
    "- The 8th last is the optimal one. Because, I plotted the different trees and accumulated them within a folder and observed them through the \"very large icons\" view option; at the 9th last one, the tree becomes too complex immediately. The increase of accuracy between 8th and 9th is unworthy."
   ]
  },
  {
   "cell_type": "code",
   "execution_count": null,
   "metadata": {
    "colab": {
     "base_uri": "https://localhost:8080/"
    },
    "id": "2FMEOCpmZEvm",
    "outputId": "d2277803-8142-4a1c-f5a2-cf17a9074df4"
   },
   "outputs": [
    {
     "data": {
      "text/plain": [
       "0.005463595377294274"
      ]
     },
     "execution_count": 26,
     "metadata": {
      "tags": []
     },
     "output_type": "execute_result"
    }
   ],
   "source": [
    "optimal_validationaccuracy = validation_accuracies[-8]            # Looking at the graph, by counting from the last one, spotted the one which has both high interpretability and high accuracy\n",
    "\n",
    "search = validation_accuracies.index(optimal_validationaccuracy)\n",
    "\n",
    "ccp_alphas_list = list(ccp_alphas)                                # Since it is a NumpyArray, create a List object from that\n",
    "ccp_alphas_list[search]                                           # Return the Alpha value"
   ]
  },
  {
   "cell_type": "markdown",
   "metadata": {
    "id": "9IWJtdLo-zah"
   },
   "source": [
    "- Optimal Alpha value is found\n",
    "\n",
    "<br>\n",
    "<br>"
   ]
  },
  {
   "cell_type": "code",
   "execution_count": null,
   "metadata": {
    "colab": {
     "base_uri": "https://localhost:8080/"
    },
    "id": "UyjbymXNCVfC",
    "outputId": "4002969b-7eaa-47d0-a7a9-ca65a7b24af5"
   },
   "outputs": [
    {
     "data": {
      "text/plain": [
       "DecisionTreeClassifier(ccp_alpha=0.005463595377294274, class_weight=None,\n",
       "                       criterion='gini', max_depth=None, max_features=None,\n",
       "                       max_leaf_nodes=None, min_impurity_decrease=0.0,\n",
       "                       min_impurity_split=None, min_samples_leaf=1,\n",
       "                       min_samples_split=2, min_weight_fraction_leaf=0.0,\n",
       "                       presort='deprecated', random_state=11, splitter='best')"
      ]
     },
     "execution_count": 27,
     "metadata": {
      "tags": []
     },
     "output_type": "execute_result"
    }
   ],
   "source": [
    "#################################\n",
    "# Train the decided model version\n",
    "##################################\n",
    "optimalmodel_decisiontree = DecisionTreeClassifier(criterion = \"gini\",                      \n",
    "                                                   ccp_alpha = ccp_alphas_list[search],     # Create the model for that specific Alpha value\n",
    "                                                   random_state = 11)\n",
    "\n",
    "optimalmodel_decisiontree.fit(X_train,\n",
    "                              y_train)"
   ]
  },
  {
   "cell_type": "code",
   "execution_count": null,
   "metadata": {
    "colab": {
     "base_uri": "https://localhost:8080/",
     "height": 35
    },
    "id": "6UamdORd2KBg",
    "outputId": "37ab1962-22d5-40dc-a564-c3d9abcc09c4"
   },
   "outputs": [
    {
     "data": {
      "application/vnd.google.colaboratory.intrinsic+json": {
       "type": "string"
      },
      "text/plain": [
       "'/tmp/DT__-8.png'"
      ]
     },
     "execution_count": 28,
     "metadata": {
      "tags": []
     },
     "output_type": "execute_result"
    }
   ],
   "source": [
    "###############################\n",
    "# Plot the Final Decision Tree\n",
    "###############################\n",
    "\n",
    "# DOT data\n",
    "dot_data = export_graphviz(optimalmodel_decisiontree, \n",
    "                           out_file = None, \n",
    "                           feature_names = dataset.iloc[:, 0:42].columns,    # To show the \"column names\" in the plot; otherwise, indices will be shown\n",
    "                           class_names = [\"Acceptable\", \"Spam\"],             # Otherwise, things like y[0] will be visible instead of class names in the graph \n",
    "                           filled = True)                                    # Otwerwise, coloring will not be applied\n",
    "\n",
    "# Draw graph\n",
    "graph = graphviz.Source(dot_data, \n",
    "                        format=\"png\")\n",
    "\n",
    "\n",
    "# Save as a file\n",
    "graph.render(\"/tmp/DT__-8\")"
   ]
  },
  {
   "cell_type": "markdown",
   "metadata": {
    "id": "lt9T0b7D8KIr"
   },
   "source": [
    "- I tried to plot via `plot_tree()`, but arrows were not visible; therefore, I searched for another way and (`export_graphviz`) worked\n",
    "\n",
    "<br>\n",
    "<br>\n",
    "\n",
    "- In each node, the samples inside of it are separated by classes in the `value` parameter. The class which has the highest number of samples will determine `class` of the node\n",
    "- The value of the `class` parameter will determine the color of the node. \n",
    "- In the Decision Tree plot, the color will be lighter when the gini value is higher. If the color is close to white, the samples inside of it are balanced in terms of category \n",
    "\n",
    "<br>\n",
    "<br>\n",
    "\n",
    "- `char_freq_!` is the most important feature, in terms of Spam detection. The importance level of the features are decreasing when going down through the tree\n",
    "\n",
    "<br>\n",
    "<br>\n",
    "\n",
    "- The feature inside of the root-node is `char_freq_!`. It is reasonable, since a scammer probably would try to attract the attention of the receiver by using \"!\" within the e-mail"
   ]
  },
  {
   "cell_type": "markdown",
   "metadata": {
    "id": "_ZvMlymXVNt-"
   },
   "source": [
    "<br>\n",
    "<br>\n",
    "<br>\n",
    "<br>\n",
    "<br>\n",
    "<br>\n",
    "<br>\n",
    "<br>\n",
    "<br>\n",
    "<br>\n",
    "\n",
    "# <font color=\"red\"> <font size=\"10px\"> Model #2: ARTIFICIAL NEURAL NETWORK </font>"
   ]
  },
  {
   "cell_type": "markdown",
   "metadata": {
    "id": "txY_2_DXDF93"
   },
   "source": [
    "## <font color=\"orange\"> <font size=\"5px\"> Feature scaling (Min-Max)  </font>\n",
    "\n",
    "- We will only perform \"transform\" on the Validation set and Testing set, by using the learned parameters through Training set"
   ]
  },
  {
   "cell_type": "code",
   "execution_count": null,
   "metadata": {
    "id": "WXCWF3iKDFVU"
   },
   "outputs": [],
   "source": [
    "featurescaler = MinMaxScaler()\n",
    "X_train_scaled = featurescaler.fit_transform(X_train)     # It was a PandasDataframe, but now turned into a NumpyArray. This info is important for some of the future operations\n",
    "\n",
    "\n",
    "#########################################\n",
    "# Scale Validation data and Testing data \n",
    "#########################################\n",
    "X_val_scaled = featurescaler.transform(X_val)\n",
    "X_test_scaled = featurescaler.transform(X_test)"
   ]
  },
  {
   "cell_type": "markdown",
   "metadata": {
    "id": "YljDipO8DMIP"
   },
   "source": [
    "<br>\n",
    "<br>\n",
    "<br>\n",
    "<br>\n",
    "\n",
    "## <font color=\"orange\"> <font size=\"5px\"> Designing the model </font>"
   ]
  },
  {
   "cell_type": "code",
   "execution_count": null,
   "metadata": {
    "id": "VFENLSz8XN33"
   },
   "outputs": [],
   "source": [
    "optimalmodel_ann = Sequential()                          # Create a Sequential model\n",
    "\n",
    "#################\n",
    "# Add the layers\n",
    "#################\n",
    "optimalmodel_ann.add(Dense(2,                            # Number of neurons within the 1st hidden layer\n",
    "                           input_dim=42,                 # The number of input features\n",
    "                           activation=\"relu\"))           # Activation function of the layer will be ReLU function\n",
    "\n",
    "optimalmodel_ann.add(Dense(1,                            # Number of neurons within the Output layer\n",
    "                           activation=\"sigmoid\"))        # Activation function of the Output layer. For a \"Binary classification\" task, \"sigmoid\" is required\n",
    "\n",
    "\n",
    "##########\n",
    "# Compile\n",
    "##########\n",
    "optimalmodel_ann.compile(loss=\"binary_crossentropy\",     # Loss function (binary_crossentropy, hinge, squared_hinge)\n",
    "                         optimizer=\"adam\",               # for an auto-adaptable Learning Rate\n",
    "                         metrics=[\"accuracy\"])           # To report the Training accuracy, in the end"
   ]
  },
  {
   "cell_type": "markdown",
   "metadata": {
    "id": "uDD3XB5QkgU5"
   },
   "source": [
    "<br>\n",
    "<br>\n",
    "<br>\n",
    "<br>\n",
    "\n",
    "## <font color=\"orange\"> <font size=\"5px\"> Training the model </font>"
   ]
  },
  {
   "cell_type": "markdown",
   "metadata": {
    "id": "J9qXRuwUkoiv"
   },
   "source": [
    "- Training a Neural Network basically means \"finding Optimum weight values\"\n"
   ]
  },
  {
   "cell_type": "code",
   "execution_count": null,
   "metadata": {
    "colab": {
     "base_uri": "https://localhost:8080/"
    },
    "id": "BgTUG8CTlkB8",
    "outputId": "69a329b5-aa77-40d3-ec99-f15a8430bd7a"
   },
   "outputs": [
    {
     "name": "stdout",
     "output_type": "stream",
     "text": [
      "Epoch 1/200\n",
      "102/102 [==============================] - 16s 7ms/step - loss: 0.6895 - accuracy: 0.5855 - val_loss: 0.6735 - val_accuracy: 0.6948\n",
      "Epoch 2/200\n",
      "102/102 [==============================] - 0s 2ms/step - loss: 0.6657 - accuracy: 0.7219 - val_loss: 0.6400 - val_accuracy: 0.7791\n",
      "Epoch 3/200\n",
      "102/102 [==============================] - 0s 2ms/step - loss: 0.6301 - accuracy: 0.7969 - val_loss: 0.6039 - val_accuracy: 0.7981\n",
      "Epoch 4/200\n",
      "102/102 [==============================] - 0s 2ms/step - loss: 0.5932 - accuracy: 0.8101 - val_loss: 0.5673 - val_accuracy: 0.8171\n",
      "Epoch 5/200\n",
      "102/102 [==============================] - 0s 2ms/step - loss: 0.5613 - accuracy: 0.8184 - val_loss: 0.5327 - val_accuracy: 0.8219\n",
      "Epoch 6/200\n",
      "102/102 [==============================] - 0s 2ms/step - loss: 0.5237 - accuracy: 0.8293 - val_loss: 0.5015 - val_accuracy: 0.8337\n",
      "Epoch 7/200\n",
      "102/102 [==============================] - 0s 2ms/step - loss: 0.4865 - accuracy: 0.8392 - val_loss: 0.4740 - val_accuracy: 0.8480\n",
      "Epoch 8/200\n",
      "102/102 [==============================] - 0s 2ms/step - loss: 0.4534 - accuracy: 0.8602 - val_loss: 0.4500 - val_accuracy: 0.8587\n",
      "Epoch 9/200\n",
      "102/102 [==============================] - 0s 2ms/step - loss: 0.4362 - accuracy: 0.8541 - val_loss: 0.4296 - val_accuracy: 0.8634\n",
      "Epoch 10/200\n",
      "102/102 [==============================] - 0s 2ms/step - loss: 0.4076 - accuracy: 0.8710 - val_loss: 0.4124 - val_accuracy: 0.8705\n",
      "Epoch 11/200\n",
      "102/102 [==============================] - 0s 2ms/step - loss: 0.3945 - accuracy: 0.8669 - val_loss: 0.3985 - val_accuracy: 0.8729\n",
      "Epoch 12/200\n",
      "102/102 [==============================] - 0s 2ms/step - loss: 0.3911 - accuracy: 0.8643 - val_loss: 0.3865 - val_accuracy: 0.8753\n",
      "Epoch 13/200\n",
      "102/102 [==============================] - 0s 2ms/step - loss: 0.3709 - accuracy: 0.8763 - val_loss: 0.3763 - val_accuracy: 0.8765\n",
      "Epoch 14/200\n",
      "102/102 [==============================] - 0s 2ms/step - loss: 0.3594 - accuracy: 0.8781 - val_loss: 0.3676 - val_accuracy: 0.8789\n",
      "Epoch 15/200\n",
      "102/102 [==============================] - 0s 2ms/step - loss: 0.3458 - accuracy: 0.8818 - val_loss: 0.3604 - val_accuracy: 0.8789\n",
      "Epoch 16/200\n",
      "102/102 [==============================] - 0s 2ms/step - loss: 0.3494 - accuracy: 0.8775 - val_loss: 0.3543 - val_accuracy: 0.8812\n",
      "Epoch 17/200\n",
      "102/102 [==============================] - 0s 2ms/step - loss: 0.3461 - accuracy: 0.8733 - val_loss: 0.3487 - val_accuracy: 0.8800\n",
      "Epoch 18/200\n",
      "102/102 [==============================] - 0s 2ms/step - loss: 0.3270 - accuracy: 0.8839 - val_loss: 0.3441 - val_accuracy: 0.8777\n",
      "Epoch 19/200\n",
      "102/102 [==============================] - 0s 2ms/step - loss: 0.3184 - accuracy: 0.8776 - val_loss: 0.3400 - val_accuracy: 0.8777\n",
      "Epoch 20/200\n",
      "102/102 [==============================] - 0s 2ms/step - loss: 0.3069 - accuracy: 0.8901 - val_loss: 0.3363 - val_accuracy: 0.8824\n",
      "Epoch 21/200\n",
      "102/102 [==============================] - 0s 2ms/step - loss: 0.3100 - accuracy: 0.8843 - val_loss: 0.3332 - val_accuracy: 0.8800\n",
      "Epoch 22/200\n",
      "102/102 [==============================] - 0s 2ms/step - loss: 0.2984 - accuracy: 0.8976 - val_loss: 0.3304 - val_accuracy: 0.8812\n",
      "Epoch 23/200\n",
      "102/102 [==============================] - 0s 2ms/step - loss: 0.3193 - accuracy: 0.8860 - val_loss: 0.3278 - val_accuracy: 0.8812\n",
      "Epoch 24/200\n",
      "102/102 [==============================] - 0s 2ms/step - loss: 0.3009 - accuracy: 0.8893 - val_loss: 0.3253 - val_accuracy: 0.8812\n",
      "Epoch 25/200\n",
      "102/102 [==============================] - 0s 2ms/step - loss: 0.3045 - accuracy: 0.8830 - val_loss: 0.3234 - val_accuracy: 0.8812\n",
      "Epoch 26/200\n",
      "102/102 [==============================] - 0s 2ms/step - loss: 0.3082 - accuracy: 0.8838 - val_loss: 0.3213 - val_accuracy: 0.8812\n",
      "Epoch 27/200\n",
      "102/102 [==============================] - 0s 2ms/step - loss: 0.2837 - accuracy: 0.8953 - val_loss: 0.3195 - val_accuracy: 0.8812\n",
      "Epoch 28/200\n",
      "102/102 [==============================] - 0s 2ms/step - loss: 0.2989 - accuracy: 0.8895 - val_loss: 0.3176 - val_accuracy: 0.8824\n",
      "Epoch 29/200\n",
      "102/102 [==============================] - 0s 2ms/step - loss: 0.2967 - accuracy: 0.8912 - val_loss: 0.3165 - val_accuracy: 0.8872\n",
      "Epoch 30/200\n",
      "102/102 [==============================] - 0s 2ms/step - loss: 0.2827 - accuracy: 0.9007 - val_loss: 0.3160 - val_accuracy: 0.8872\n",
      "Epoch 31/200\n",
      "102/102 [==============================] - 0s 3ms/step - loss: 0.2749 - accuracy: 0.8964 - val_loss: 0.3140 - val_accuracy: 0.8860\n",
      "Epoch 32/200\n",
      "102/102 [==============================] - 0s 2ms/step - loss: 0.2688 - accuracy: 0.9041 - val_loss: 0.3126 - val_accuracy: 0.8860\n",
      "Epoch 33/200\n",
      "102/102 [==============================] - 0s 2ms/step - loss: 0.2914 - accuracy: 0.8873 - val_loss: 0.3117 - val_accuracy: 0.8884\n",
      "Epoch 34/200\n",
      "102/102 [==============================] - 0s 2ms/step - loss: 0.2844 - accuracy: 0.8905 - val_loss: 0.3105 - val_accuracy: 0.8919\n",
      "Epoch 35/200\n",
      "102/102 [==============================] - 0s 2ms/step - loss: 0.2551 - accuracy: 0.9044 - val_loss: 0.3100 - val_accuracy: 0.8907\n",
      "Epoch 36/200\n",
      "102/102 [==============================] - 0s 2ms/step - loss: 0.2827 - accuracy: 0.8922 - val_loss: 0.3086 - val_accuracy: 0.8931\n",
      "Epoch 37/200\n",
      "102/102 [==============================] - 0s 2ms/step - loss: 0.2689 - accuracy: 0.9020 - val_loss: 0.3080 - val_accuracy: 0.8943\n",
      "Epoch 38/200\n",
      "102/102 [==============================] - 0s 2ms/step - loss: 0.2688 - accuracy: 0.9005 - val_loss: 0.3071 - val_accuracy: 0.8943\n",
      "Epoch 39/200\n",
      "102/102 [==============================] - 0s 2ms/step - loss: 0.2812 - accuracy: 0.8928 - val_loss: 0.3065 - val_accuracy: 0.8931\n",
      "Epoch 40/200\n",
      "102/102 [==============================] - 0s 2ms/step - loss: 0.2773 - accuracy: 0.8891 - val_loss: 0.3055 - val_accuracy: 0.8955\n",
      "Epoch 41/200\n",
      "102/102 [==============================] - 0s 2ms/step - loss: 0.2686 - accuracy: 0.8961 - val_loss: 0.3049 - val_accuracy: 0.8955\n",
      "Epoch 42/200\n",
      "102/102 [==============================] - 0s 2ms/step - loss: 0.2663 - accuracy: 0.8992 - val_loss: 0.3043 - val_accuracy: 0.8955\n",
      "Epoch 43/200\n",
      "102/102 [==============================] - 0s 2ms/step - loss: 0.2739 - accuracy: 0.8934 - val_loss: 0.3037 - val_accuracy: 0.8955\n",
      "Epoch 44/200\n",
      "102/102 [==============================] - 0s 3ms/step - loss: 0.2566 - accuracy: 0.8988 - val_loss: 0.3035 - val_accuracy: 0.8955\n",
      "Epoch 45/200\n",
      "102/102 [==============================] - 0s 2ms/step - loss: 0.2639 - accuracy: 0.8944 - val_loss: 0.3025 - val_accuracy: 0.8990\n",
      "Epoch 46/200\n",
      "102/102 [==============================] - 0s 2ms/step - loss: 0.2778 - accuracy: 0.8969 - val_loss: 0.3022 - val_accuracy: 0.9002\n",
      "Epoch 47/200\n",
      "102/102 [==============================] - 0s 2ms/step - loss: 0.2740 - accuracy: 0.8935 - val_loss: 0.3026 - val_accuracy: 0.8955\n",
      "Epoch 48/200\n",
      "102/102 [==============================] - 0s 2ms/step - loss: 0.2693 - accuracy: 0.9031 - val_loss: 0.3018 - val_accuracy: 0.8967\n",
      "Epoch 49/200\n",
      "102/102 [==============================] - 0s 2ms/step - loss: 0.2800 - accuracy: 0.8925 - val_loss: 0.3011 - val_accuracy: 0.9002\n",
      "Epoch 50/200\n",
      "102/102 [==============================] - 0s 2ms/step - loss: 0.2514 - accuracy: 0.9015 - val_loss: 0.3009 - val_accuracy: 0.9002\n",
      "Epoch 51/200\n",
      "102/102 [==============================] - 0s 2ms/step - loss: 0.2559 - accuracy: 0.8987 - val_loss: 0.3005 - val_accuracy: 0.9002\n",
      "Epoch 52/200\n",
      "102/102 [==============================] - 0s 2ms/step - loss: 0.2677 - accuracy: 0.8927 - val_loss: 0.3003 - val_accuracy: 0.8990\n",
      "Epoch 53/200\n",
      "102/102 [==============================] - 0s 2ms/step - loss: 0.2727 - accuracy: 0.8965 - val_loss: 0.3000 - val_accuracy: 0.8979\n",
      "Epoch 54/200\n",
      "102/102 [==============================] - 0s 2ms/step - loss: 0.2689 - accuracy: 0.8977 - val_loss: 0.2995 - val_accuracy: 0.9014\n",
      "Epoch 55/200\n",
      "102/102 [==============================] - 0s 2ms/step - loss: 0.2587 - accuracy: 0.9017 - val_loss: 0.2996 - val_accuracy: 0.8990\n",
      "Epoch 56/200\n",
      "102/102 [==============================] - 0s 2ms/step - loss: 0.2649 - accuracy: 0.8996 - val_loss: 0.2988 - val_accuracy: 0.9002\n",
      "Epoch 57/200\n",
      "102/102 [==============================] - 0s 2ms/step - loss: 0.2662 - accuracy: 0.8934 - val_loss: 0.2985 - val_accuracy: 0.9002\n",
      "Epoch 58/200\n",
      "102/102 [==============================] - 0s 2ms/step - loss: 0.2724 - accuracy: 0.8924 - val_loss: 0.2983 - val_accuracy: 0.8990\n",
      "Epoch 59/200\n",
      "102/102 [==============================] - 0s 2ms/step - loss: 0.2377 - accuracy: 0.9115 - val_loss: 0.2979 - val_accuracy: 0.8990\n",
      "Epoch 60/200\n",
      "102/102 [==============================] - 0s 3ms/step - loss: 0.2475 - accuracy: 0.9080 - val_loss: 0.2976 - val_accuracy: 0.9002\n",
      "Epoch 61/200\n",
      "102/102 [==============================] - 0s 2ms/step - loss: 0.2553 - accuracy: 0.9073 - val_loss: 0.2971 - val_accuracy: 0.9026\n",
      "Epoch 62/200\n",
      "102/102 [==============================] - 0s 2ms/step - loss: 0.2492 - accuracy: 0.9046 - val_loss: 0.2971 - val_accuracy: 0.9026\n",
      "Epoch 63/200\n",
      "102/102 [==============================] - 0s 2ms/step - loss: 0.2440 - accuracy: 0.9111 - val_loss: 0.2966 - val_accuracy: 0.9038\n",
      "Epoch 64/200\n",
      "102/102 [==============================] - 0s 2ms/step - loss: 0.2598 - accuracy: 0.8993 - val_loss: 0.2964 - val_accuracy: 0.9050\n",
      "Epoch 65/200\n",
      "102/102 [==============================] - 0s 2ms/step - loss: 0.2652 - accuracy: 0.8998 - val_loss: 0.2959 - val_accuracy: 0.9026\n",
      "Epoch 66/200\n",
      "102/102 [==============================] - 0s 2ms/step - loss: 0.2436 - accuracy: 0.9090 - val_loss: 0.2957 - val_accuracy: 0.9050\n",
      "Epoch 67/200\n",
      "102/102 [==============================] - 0s 2ms/step - loss: 0.2601 - accuracy: 0.9042 - val_loss: 0.2959 - val_accuracy: 0.9050\n",
      "Epoch 68/200\n",
      "102/102 [==============================] - 0s 3ms/step - loss: 0.2515 - accuracy: 0.9056 - val_loss: 0.2955 - val_accuracy: 0.9074\n",
      "Epoch 69/200\n",
      "102/102 [==============================] - 0s 2ms/step - loss: 0.2706 - accuracy: 0.9015 - val_loss: 0.2945 - val_accuracy: 0.9038\n",
      "Epoch 70/200\n",
      "102/102 [==============================] - 0s 2ms/step - loss: 0.2498 - accuracy: 0.9076 - val_loss: 0.2942 - val_accuracy: 0.9050\n",
      "Epoch 71/200\n",
      "102/102 [==============================] - 0s 2ms/step - loss: 0.2498 - accuracy: 0.9048 - val_loss: 0.2939 - val_accuracy: 0.9038\n",
      "Epoch 72/200\n",
      "102/102 [==============================] - 0s 3ms/step - loss: 0.2545 - accuracy: 0.9076 - val_loss: 0.2939 - val_accuracy: 0.9062\n",
      "Epoch 73/200\n",
      "102/102 [==============================] - 0s 2ms/step - loss: 0.2506 - accuracy: 0.9098 - val_loss: 0.2942 - val_accuracy: 0.9097\n",
      "Epoch 74/200\n",
      "102/102 [==============================] - 0s 2ms/step - loss: 0.2526 - accuracy: 0.9124 - val_loss: 0.2937 - val_accuracy: 0.9109\n",
      "Epoch 75/200\n",
      "102/102 [==============================] - 0s 2ms/step - loss: 0.2552 - accuracy: 0.9086 - val_loss: 0.2933 - val_accuracy: 0.9074\n",
      "Epoch 76/200\n",
      "102/102 [==============================] - 0s 2ms/step - loss: 0.2283 - accuracy: 0.9174 - val_loss: 0.2933 - val_accuracy: 0.9097\n",
      "Epoch 77/200\n",
      "102/102 [==============================] - 0s 2ms/step - loss: 0.2386 - accuracy: 0.9179 - val_loss: 0.2930 - val_accuracy: 0.9097\n",
      "Epoch 78/200\n",
      "102/102 [==============================] - 0s 2ms/step - loss: 0.2601 - accuracy: 0.9045 - val_loss: 0.2930 - val_accuracy: 0.9109\n",
      "Epoch 79/200\n",
      "102/102 [==============================] - 0s 2ms/step - loss: 0.2427 - accuracy: 0.9115 - val_loss: 0.2927 - val_accuracy: 0.9109\n",
      "Epoch 80/200\n",
      "102/102 [==============================] - 0s 2ms/step - loss: 0.2383 - accuracy: 0.9113 - val_loss: 0.2927 - val_accuracy: 0.9097\n",
      "Epoch 81/200\n",
      "102/102 [==============================] - 0s 2ms/step - loss: 0.2396 - accuracy: 0.9157 - val_loss: 0.2922 - val_accuracy: 0.9097\n",
      "Epoch 82/200\n",
      "102/102 [==============================] - 0s 2ms/step - loss: 0.2481 - accuracy: 0.9153 - val_loss: 0.2916 - val_accuracy: 0.9097\n",
      "Epoch 83/200\n",
      "102/102 [==============================] - 0s 2ms/step - loss: 0.2304 - accuracy: 0.9140 - val_loss: 0.2917 - val_accuracy: 0.9109\n",
      "Epoch 84/200\n",
      "102/102 [==============================] - 0s 2ms/step - loss: 0.2359 - accuracy: 0.9208 - val_loss: 0.2911 - val_accuracy: 0.9109\n",
      "Epoch 85/200\n",
      "102/102 [==============================] - 0s 2ms/step - loss: 0.2421 - accuracy: 0.9164 - val_loss: 0.2910 - val_accuracy: 0.9097\n",
      "Epoch 86/200\n",
      "102/102 [==============================] - 0s 2ms/step - loss: 0.2556 - accuracy: 0.9052 - val_loss: 0.2904 - val_accuracy: 0.9097\n",
      "Epoch 87/200\n",
      "102/102 [==============================] - 0s 3ms/step - loss: 0.2571 - accuracy: 0.9125 - val_loss: 0.2900 - val_accuracy: 0.9097\n",
      "Epoch 88/200\n",
      "102/102 [==============================] - 0s 2ms/step - loss: 0.2437 - accuracy: 0.9092 - val_loss: 0.2890 - val_accuracy: 0.9109\n",
      "Epoch 89/200\n",
      "102/102 [==============================] - 0s 2ms/step - loss: 0.2328 - accuracy: 0.9177 - val_loss: 0.2890 - val_accuracy: 0.9097\n",
      "Epoch 90/200\n",
      "102/102 [==============================] - 0s 2ms/step - loss: 0.2426 - accuracy: 0.9130 - val_loss: 0.2889 - val_accuracy: 0.9109\n",
      "Epoch 91/200\n",
      "102/102 [==============================] - 0s 2ms/step - loss: 0.2450 - accuracy: 0.9148 - val_loss: 0.2882 - val_accuracy: 0.9109\n",
      "Epoch 92/200\n",
      "102/102 [==============================] - 0s 2ms/step - loss: 0.2345 - accuracy: 0.9177 - val_loss: 0.2878 - val_accuracy: 0.9097\n",
      "Epoch 93/200\n",
      "102/102 [==============================] - 0s 2ms/step - loss: 0.2265 - accuracy: 0.9198 - val_loss: 0.2873 - val_accuracy: 0.9109\n",
      "Epoch 94/200\n",
      "102/102 [==============================] - 0s 3ms/step - loss: 0.2373 - accuracy: 0.9147 - val_loss: 0.2865 - val_accuracy: 0.9133\n",
      "Epoch 95/200\n",
      "102/102 [==============================] - 0s 2ms/step - loss: 0.2469 - accuracy: 0.9111 - val_loss: 0.2863 - val_accuracy: 0.9121\n",
      "Epoch 96/200\n",
      "102/102 [==============================] - 0s 3ms/step - loss: 0.2395 - accuracy: 0.9117 - val_loss: 0.2861 - val_accuracy: 0.9133\n",
      "Epoch 97/200\n",
      "102/102 [==============================] - 0s 2ms/step - loss: 0.2357 - accuracy: 0.9200 - val_loss: 0.2859 - val_accuracy: 0.9133\n",
      "Epoch 98/200\n",
      "102/102 [==============================] - 0s 2ms/step - loss: 0.2418 - accuracy: 0.9193 - val_loss: 0.2855 - val_accuracy: 0.9121\n",
      "Epoch 99/200\n",
      "102/102 [==============================] - 0s 2ms/step - loss: 0.2306 - accuracy: 0.9120 - val_loss: 0.2855 - val_accuracy: 0.9109\n",
      "Epoch 100/200\n",
      "102/102 [==============================] - 0s 2ms/step - loss: 0.2430 - accuracy: 0.9138 - val_loss: 0.2848 - val_accuracy: 0.9133\n",
      "Epoch 101/200\n",
      "102/102 [==============================] - 0s 2ms/step - loss: 0.2274 - accuracy: 0.9205 - val_loss: 0.2847 - val_accuracy: 0.9121\n",
      "Epoch 102/200\n",
      "102/102 [==============================] - 0s 2ms/step - loss: 0.2278 - accuracy: 0.9192 - val_loss: 0.2844 - val_accuracy: 0.9121\n",
      "Epoch 103/200\n",
      "102/102 [==============================] - 0s 2ms/step - loss: 0.2290 - accuracy: 0.9214 - val_loss: 0.2843 - val_accuracy: 0.9121\n",
      "Epoch 104/200\n",
      "102/102 [==============================] - 0s 2ms/step - loss: 0.2112 - accuracy: 0.9275 - val_loss: 0.2842 - val_accuracy: 0.9145\n",
      "Epoch 105/200\n",
      "102/102 [==============================] - 0s 2ms/step - loss: 0.2461 - accuracy: 0.9135 - val_loss: 0.2839 - val_accuracy: 0.9145\n",
      "Epoch 106/200\n",
      "102/102 [==============================] - 0s 2ms/step - loss: 0.2402 - accuracy: 0.9145 - val_loss: 0.2838 - val_accuracy: 0.9157\n",
      "Epoch 107/200\n",
      "102/102 [==============================] - 0s 2ms/step - loss: 0.2205 - accuracy: 0.9223 - val_loss: 0.2834 - val_accuracy: 0.9181\n",
      "Epoch 108/200\n",
      "102/102 [==============================] - 0s 2ms/step - loss: 0.2318 - accuracy: 0.9185 - val_loss: 0.2832 - val_accuracy: 0.9192\n",
      "Epoch 109/200\n",
      "102/102 [==============================] - 0s 2ms/step - loss: 0.2317 - accuracy: 0.9184 - val_loss: 0.2829 - val_accuracy: 0.9192\n",
      "Epoch 110/200\n",
      "102/102 [==============================] - 0s 2ms/step - loss: 0.2488 - accuracy: 0.9172 - val_loss: 0.2833 - val_accuracy: 0.9192\n",
      "Epoch 111/200\n",
      "102/102 [==============================] - 0s 2ms/step - loss: 0.2467 - accuracy: 0.9155 - val_loss: 0.2831 - val_accuracy: 0.9192\n",
      "Epoch 112/200\n",
      "102/102 [==============================] - 0s 2ms/step - loss: 0.2229 - accuracy: 0.9212 - val_loss: 0.2828 - val_accuracy: 0.9192\n",
      "Epoch 113/200\n",
      "102/102 [==============================] - 0s 2ms/step - loss: 0.2241 - accuracy: 0.9207 - val_loss: 0.2827 - val_accuracy: 0.9192\n",
      "Epoch 114/200\n",
      "102/102 [==============================] - 0s 3ms/step - loss: 0.2289 - accuracy: 0.9198 - val_loss: 0.2827 - val_accuracy: 0.9192\n",
      "Epoch 115/200\n",
      "102/102 [==============================] - 0s 2ms/step - loss: 0.2330 - accuracy: 0.9178 - val_loss: 0.2823 - val_accuracy: 0.9192\n",
      "Epoch 116/200\n",
      "102/102 [==============================] - 0s 2ms/step - loss: 0.2325 - accuracy: 0.9136 - val_loss: 0.2819 - val_accuracy: 0.9192\n",
      "Epoch 117/200\n",
      "102/102 [==============================] - 0s 3ms/step - loss: 0.2445 - accuracy: 0.9107 - val_loss: 0.2820 - val_accuracy: 0.9192\n",
      "Epoch 118/200\n",
      "102/102 [==============================] - 0s 2ms/step - loss: 0.2283 - accuracy: 0.9185 - val_loss: 0.2820 - val_accuracy: 0.9192\n",
      "Epoch 119/200\n",
      "102/102 [==============================] - 0s 2ms/step - loss: 0.2391 - accuracy: 0.9085 - val_loss: 0.2818 - val_accuracy: 0.9192\n",
      "Epoch 120/200\n",
      "102/102 [==============================] - 0s 2ms/step - loss: 0.2511 - accuracy: 0.9152 - val_loss: 0.2817 - val_accuracy: 0.9192\n",
      "Epoch 121/200\n",
      "102/102 [==============================] - 0s 2ms/step - loss: 0.2446 - accuracy: 0.9119 - val_loss: 0.2810 - val_accuracy: 0.9192\n",
      "Epoch 122/200\n",
      "102/102 [==============================] - 0s 2ms/step - loss: 0.2372 - accuracy: 0.9123 - val_loss: 0.2812 - val_accuracy: 0.9192\n",
      "Epoch 123/200\n",
      "102/102 [==============================] - 0s 2ms/step - loss: 0.2346 - accuracy: 0.9239 - val_loss: 0.2814 - val_accuracy: 0.9192\n",
      "Epoch 124/200\n",
      "102/102 [==============================] - 0s 2ms/step - loss: 0.2200 - accuracy: 0.9233 - val_loss: 0.2812 - val_accuracy: 0.9192\n",
      "Epoch 125/200\n",
      "102/102 [==============================] - 0s 2ms/step - loss: 0.2522 - accuracy: 0.9093 - val_loss: 0.2810 - val_accuracy: 0.9204\n",
      "Epoch 126/200\n",
      "102/102 [==============================] - 0s 3ms/step - loss: 0.2259 - accuracy: 0.9201 - val_loss: 0.2810 - val_accuracy: 0.9204\n",
      "Epoch 127/200\n",
      "102/102 [==============================] - 0s 2ms/step - loss: 0.2350 - accuracy: 0.9194 - val_loss: 0.2810 - val_accuracy: 0.9216\n",
      "Epoch 128/200\n",
      "102/102 [==============================] - 0s 2ms/step - loss: 0.2349 - accuracy: 0.9124 - val_loss: 0.2807 - val_accuracy: 0.9204\n",
      "Epoch 129/200\n",
      "102/102 [==============================] - 0s 2ms/step - loss: 0.2157 - accuracy: 0.9288 - val_loss: 0.2812 - val_accuracy: 0.9192\n",
      "Epoch 130/200\n",
      "102/102 [==============================] - 0s 2ms/step - loss: 0.2137 - accuracy: 0.9282 - val_loss: 0.2810 - val_accuracy: 0.9204\n",
      "Epoch 131/200\n",
      "102/102 [==============================] - 0s 2ms/step - loss: 0.2299 - accuracy: 0.9220 - val_loss: 0.2807 - val_accuracy: 0.9192\n",
      "Epoch 132/200\n",
      "102/102 [==============================] - 0s 2ms/step - loss: 0.2316 - accuracy: 0.9186 - val_loss: 0.2804 - val_accuracy: 0.9216\n",
      "Epoch 133/200\n",
      "102/102 [==============================] - 0s 3ms/step - loss: 0.2349 - accuracy: 0.9202 - val_loss: 0.2797 - val_accuracy: 0.9216\n",
      "Epoch 134/200\n",
      "102/102 [==============================] - 0s 2ms/step - loss: 0.2308 - accuracy: 0.9183 - val_loss: 0.2797 - val_accuracy: 0.9216\n",
      "Epoch 135/200\n",
      "102/102 [==============================] - 0s 2ms/step - loss: 0.2085 - accuracy: 0.9282 - val_loss: 0.2798 - val_accuracy: 0.9216\n",
      "Epoch 136/200\n",
      "102/102 [==============================] - 0s 3ms/step - loss: 0.2213 - accuracy: 0.9256 - val_loss: 0.2801 - val_accuracy: 0.9192\n",
      "Epoch 137/200\n",
      "102/102 [==============================] - 0s 2ms/step - loss: 0.2217 - accuracy: 0.9244 - val_loss: 0.2799 - val_accuracy: 0.9192\n",
      "Epoch 138/200\n",
      "102/102 [==============================] - 0s 2ms/step - loss: 0.2132 - accuracy: 0.9225 - val_loss: 0.2804 - val_accuracy: 0.9192\n",
      "Epoch 139/200\n",
      "102/102 [==============================] - 0s 3ms/step - loss: 0.2159 - accuracy: 0.9231 - val_loss: 0.2800 - val_accuracy: 0.9192\n",
      "Epoch 140/200\n",
      "102/102 [==============================] - 0s 3ms/step - loss: 0.2205 - accuracy: 0.9206 - val_loss: 0.2801 - val_accuracy: 0.9192\n",
      "Epoch 141/200\n",
      "102/102 [==============================] - 0s 2ms/step - loss: 0.2236 - accuracy: 0.9226 - val_loss: 0.2801 - val_accuracy: 0.9192\n",
      "Epoch 142/200\n",
      "102/102 [==============================] - 0s 2ms/step - loss: 0.2249 - accuracy: 0.9191 - val_loss: 0.2803 - val_accuracy: 0.9181\n",
      "Epoch 143/200\n",
      "102/102 [==============================] - 0s 2ms/step - loss: 0.2197 - accuracy: 0.9273 - val_loss: 0.2806 - val_accuracy: 0.9204\n",
      "Epoch 144/200\n",
      "102/102 [==============================] - 0s 2ms/step - loss: 0.2386 - accuracy: 0.9159 - val_loss: 0.2803 - val_accuracy: 0.9192\n",
      "Epoch 145/200\n",
      "102/102 [==============================] - 0s 2ms/step - loss: 0.2195 - accuracy: 0.9236 - val_loss: 0.2806 - val_accuracy: 0.9192\n",
      "Epoch 146/200\n",
      "102/102 [==============================] - 0s 2ms/step - loss: 0.2255 - accuracy: 0.9206 - val_loss: 0.2802 - val_accuracy: 0.9192\n",
      "Epoch 147/200\n",
      "102/102 [==============================] - 0s 2ms/step - loss: 0.2276 - accuracy: 0.9229 - val_loss: 0.2806 - val_accuracy: 0.9204\n",
      "Epoch 148/200\n",
      "102/102 [==============================] - 0s 2ms/step - loss: 0.2209 - accuracy: 0.9246 - val_loss: 0.2802 - val_accuracy: 0.9204\n",
      "Epoch 149/200\n",
      "102/102 [==============================] - 0s 2ms/step - loss: 0.2341 - accuracy: 0.9184 - val_loss: 0.2806 - val_accuracy: 0.9204\n",
      "Epoch 150/200\n",
      "102/102 [==============================] - 0s 2ms/step - loss: 0.2357 - accuracy: 0.9152 - val_loss: 0.2803 - val_accuracy: 0.9216\n",
      "Epoch 151/200\n",
      "102/102 [==============================] - 0s 3ms/step - loss: 0.2043 - accuracy: 0.9315 - val_loss: 0.2803 - val_accuracy: 0.9204\n",
      "Epoch 152/200\n",
      "102/102 [==============================] - 0s 2ms/step - loss: 0.2174 - accuracy: 0.9298 - val_loss: 0.2802 - val_accuracy: 0.9228\n",
      "Epoch 153/200\n",
      "102/102 [==============================] - 0s 3ms/step - loss: 0.2226 - accuracy: 0.9282 - val_loss: 0.2801 - val_accuracy: 0.9216\n",
      "Epoch 154/200\n",
      "102/102 [==============================] - 0s 2ms/step - loss: 0.2282 - accuracy: 0.9206 - val_loss: 0.2801 - val_accuracy: 0.9204\n",
      "Epoch 155/200\n",
      "102/102 [==============================] - 0s 2ms/step - loss: 0.2234 - accuracy: 0.9226 - val_loss: 0.2803 - val_accuracy: 0.9192\n",
      "Epoch 156/200\n",
      "102/102 [==============================] - 0s 2ms/step - loss: 0.2226 - accuracy: 0.9256 - val_loss: 0.2802 - val_accuracy: 0.9192\n",
      "Epoch 157/200\n",
      "102/102 [==============================] - 0s 2ms/step - loss: 0.2260 - accuracy: 0.9165 - val_loss: 0.2803 - val_accuracy: 0.9204\n",
      "Epoch 158/200\n",
      "102/102 [==============================] - 0s 2ms/step - loss: 0.2199 - accuracy: 0.9232 - val_loss: 0.2804 - val_accuracy: 0.9204\n",
      "Epoch 159/200\n",
      "102/102 [==============================] - 0s 2ms/step - loss: 0.2287 - accuracy: 0.9213 - val_loss: 0.2799 - val_accuracy: 0.9192\n",
      "Epoch 160/200\n",
      "102/102 [==============================] - 0s 2ms/step - loss: 0.2324 - accuracy: 0.9295 - val_loss: 0.2800 - val_accuracy: 0.9192\n",
      "Epoch 161/200\n",
      "102/102 [==============================] - 0s 2ms/step - loss: 0.2225 - accuracy: 0.9154 - val_loss: 0.2799 - val_accuracy: 0.9192\n",
      "Epoch 162/200\n",
      "102/102 [==============================] - 0s 2ms/step - loss: 0.2113 - accuracy: 0.9283 - val_loss: 0.2800 - val_accuracy: 0.9192\n",
      "Epoch 163/200\n",
      "102/102 [==============================] - 0s 3ms/step - loss: 0.2274 - accuracy: 0.9168 - val_loss: 0.2801 - val_accuracy: 0.9192\n",
      "Epoch 164/200\n",
      "102/102 [==============================] - 0s 3ms/step - loss: 0.2304 - accuracy: 0.9140 - val_loss: 0.2801 - val_accuracy: 0.9192\n",
      "Epoch 165/200\n",
      "102/102 [==============================] - 0s 2ms/step - loss: 0.2216 - accuracy: 0.9259 - val_loss: 0.2800 - val_accuracy: 0.9192\n",
      "Epoch 166/200\n",
      "102/102 [==============================] - 0s 2ms/step - loss: 0.2153 - accuracy: 0.9245 - val_loss: 0.2800 - val_accuracy: 0.9192\n",
      "Epoch 167/200\n",
      "102/102 [==============================] - 0s 2ms/step - loss: 0.2241 - accuracy: 0.9255 - val_loss: 0.2802 - val_accuracy: 0.9204\n",
      "Epoch 168/200\n",
      "102/102 [==============================] - 0s 2ms/step - loss: 0.2403 - accuracy: 0.9189 - val_loss: 0.2803 - val_accuracy: 0.9204\n",
      "Epoch 169/200\n",
      "102/102 [==============================] - 0s 3ms/step - loss: 0.2250 - accuracy: 0.9166 - val_loss: 0.2804 - val_accuracy: 0.9204\n",
      "Epoch 170/200\n",
      "102/102 [==============================] - 0s 2ms/step - loss: 0.2327 - accuracy: 0.9189 - val_loss: 0.2806 - val_accuracy: 0.9216\n",
      "Epoch 171/200\n",
      "102/102 [==============================] - 0s 2ms/step - loss: 0.2310 - accuracy: 0.9163 - val_loss: 0.2804 - val_accuracy: 0.9204\n",
      "Epoch 172/200\n",
      "102/102 [==============================] - 0s 2ms/step - loss: 0.2180 - accuracy: 0.9217 - val_loss: 0.2807 - val_accuracy: 0.9216\n",
      "Epoch 173/200\n",
      "102/102 [==============================] - 0s 2ms/step - loss: 0.2308 - accuracy: 0.9191 - val_loss: 0.2803 - val_accuracy: 0.9216\n",
      "Epoch 174/200\n",
      "102/102 [==============================] - 0s 2ms/step - loss: 0.2105 - accuracy: 0.9285 - val_loss: 0.2803 - val_accuracy: 0.9216\n",
      "Epoch 175/200\n",
      "102/102 [==============================] - 0s 2ms/step - loss: 0.2179 - accuracy: 0.9245 - val_loss: 0.2803 - val_accuracy: 0.9216\n",
      "Epoch 176/200\n",
      "102/102 [==============================] - 0s 2ms/step - loss: 0.2240 - accuracy: 0.9224 - val_loss: 0.2802 - val_accuracy: 0.9216\n",
      "Epoch 177/200\n",
      "102/102 [==============================] - 0s 2ms/step - loss: 0.2044 - accuracy: 0.9375 - val_loss: 0.2802 - val_accuracy: 0.9216\n",
      "Epoch 178/200\n",
      "102/102 [==============================] - 0s 2ms/step - loss: 0.2303 - accuracy: 0.9140 - val_loss: 0.2802 - val_accuracy: 0.9216\n",
      "Epoch 179/200\n",
      "102/102 [==============================] - 0s 2ms/step - loss: 0.2320 - accuracy: 0.9171 - val_loss: 0.2803 - val_accuracy: 0.9216\n",
      "Epoch 180/200\n",
      "102/102 [==============================] - 0s 2ms/step - loss: 0.2122 - accuracy: 0.9214 - val_loss: 0.2803 - val_accuracy: 0.9216\n",
      "Epoch 181/200\n",
      "102/102 [==============================] - 0s 2ms/step - loss: 0.2300 - accuracy: 0.9182 - val_loss: 0.2802 - val_accuracy: 0.9216\n",
      "Epoch 182/200\n",
      "102/102 [==============================] - 0s 2ms/step - loss: 0.2115 - accuracy: 0.9251 - val_loss: 0.2803 - val_accuracy: 0.9216\n",
      "Epoch 183/200\n",
      "102/102 [==============================] - 0s 2ms/step - loss: 0.2098 - accuracy: 0.9238 - val_loss: 0.2805 - val_accuracy: 0.9204\n",
      "Epoch 184/200\n",
      "102/102 [==============================] - 0s 2ms/step - loss: 0.2028 - accuracy: 0.9271 - val_loss: 0.2803 - val_accuracy: 0.9204\n",
      "Epoch 185/200\n",
      "102/102 [==============================] - 0s 2ms/step - loss: 0.2090 - accuracy: 0.9246 - val_loss: 0.2803 - val_accuracy: 0.9204\n",
      "Epoch 186/200\n",
      "102/102 [==============================] - 0s 2ms/step - loss: 0.2079 - accuracy: 0.9306 - val_loss: 0.2802 - val_accuracy: 0.9216\n",
      "Epoch 187/200\n",
      "102/102 [==============================] - 0s 2ms/step - loss: 0.2203 - accuracy: 0.9286 - val_loss: 0.2803 - val_accuracy: 0.9204\n",
      "Epoch 188/200\n",
      "102/102 [==============================] - 0s 2ms/step - loss: 0.2095 - accuracy: 0.9247 - val_loss: 0.2800 - val_accuracy: 0.9204\n",
      "Epoch 189/200\n",
      "102/102 [==============================] - 0s 2ms/step - loss: 0.2329 - accuracy: 0.9173 - val_loss: 0.2798 - val_accuracy: 0.9216\n",
      "Epoch 190/200\n",
      "102/102 [==============================] - 0s 2ms/step - loss: 0.2093 - accuracy: 0.9322 - val_loss: 0.2807 - val_accuracy: 0.9204\n",
      "Epoch 191/200\n",
      "102/102 [==============================] - 0s 2ms/step - loss: 0.2257 - accuracy: 0.9213 - val_loss: 0.2799 - val_accuracy: 0.9216\n",
      "Epoch 192/200\n",
      "102/102 [==============================] - 0s 3ms/step - loss: 0.2217 - accuracy: 0.9195 - val_loss: 0.2804 - val_accuracy: 0.9181\n",
      "Epoch 193/200\n",
      "102/102 [==============================] - 0s 2ms/step - loss: 0.2362 - accuracy: 0.9136 - val_loss: 0.2795 - val_accuracy: 0.9216\n",
      "Epoch 194/200\n",
      "102/102 [==============================] - 0s 3ms/step - loss: 0.2040 - accuracy: 0.9290 - val_loss: 0.2796 - val_accuracy: 0.9216\n",
      "Epoch 195/200\n",
      "102/102 [==============================] - 0s 2ms/step - loss: 0.2130 - accuracy: 0.9212 - val_loss: 0.2791 - val_accuracy: 0.9216\n",
      "Epoch 196/200\n",
      "102/102 [==============================] - 0s 2ms/step - loss: 0.2295 - accuracy: 0.9179 - val_loss: 0.2794 - val_accuracy: 0.9204\n",
      "Epoch 197/200\n",
      "102/102 [==============================] - 0s 2ms/step - loss: 0.2188 - accuracy: 0.9181 - val_loss: 0.2796 - val_accuracy: 0.9192\n",
      "Epoch 198/200\n",
      "102/102 [==============================] - 0s 2ms/step - loss: 0.2283 - accuracy: 0.9244 - val_loss: 0.2797 - val_accuracy: 0.9192\n",
      "Epoch 199/200\n",
      "102/102 [==============================] - 0s 2ms/step - loss: 0.2097 - accuracy: 0.9276 - val_loss: 0.2798 - val_accuracy: 0.9192\n",
      "Epoch 200/200\n",
      "102/102 [==============================] - 0s 3ms/step - loss: 0.2289 - accuracy: 0.9242 - val_loss: 0.2797 - val_accuracy: 0.9192\n"
     ]
    }
   ],
   "source": [
    "history = optimalmodel_ann.fit(X_train_scaled, y_train,\n",
    "                               validation_data=(X_val_scaled, y_val),\n",
    "                               epochs=200,                                # When the whole training set is done, 1 epoch is done\n",
    "                               batch_size=25,\n",
    "                               verbose=1)                                 # \"0\" = Mask computation, \"1\" = Watch computation"
   ]
  },
  {
   "cell_type": "markdown",
   "metadata": {
    "id": "vyGyNgLLA0WR"
   },
   "source": [
    "<br>\n",
    "<br>\n",
    "<br>\n",
    "<br>\n",
    "\n",
    "\n",
    "## <font color=\"orange\"> <font size=\"5px\"> Overfitting & Underfitting analysis by plotting  </font>"
   ]
  },
  {
   "cell_type": "code",
   "execution_count": null,
   "metadata": {
    "colab": {
     "base_uri": "https://localhost:8080/",
     "height": 378
    },
    "id": "nh-4V6-vL6ZJ",
    "outputId": "b97eef99-326e-493a-e8a6-39b0c15459da"
   },
   "outputs": [
    {
     "data": {
      "image/png": "[encoded data removed]",
      "text/plain": [
       "<Figure size 1080x360 with 1 Axes>"
      ]
     },
     "metadata": {
      "tags": []
     },
     "output_type": "display_data"
    }
   ],
   "source": [
    "fig, ax = plt.subplots(figsize=(15, 5))\n",
    "\n",
    "\n",
    "plt.plot(history.history[\"accuracy\"],\n",
    "         label=\"Training accuracy\")\n",
    "\n",
    "plt.plot(history.history[\"val_accuracy\"],\n",
    "         label=\"Validation accuracy\")\n",
    "\n",
    "\n",
    "# Title + Axis Labels\n",
    "plt.title(\"Overfitting - Underfitting analysis\",\n",
    "          fontsize=40,\n",
    "          color=\"#AA0A7E\")\n",
    "\n",
    "plt.xlabel(\"Number of epochs\",\n",
    "           fontsize=15,\n",
    "           color=\"#750B9C\")\n",
    "\n",
    "plt.ylabel(\"Accuracy\",\n",
    "           fontsize=15,\n",
    "           color=\"#750B9C\")\n",
    "\n",
    "\n",
    "plt.legend()\n",
    "\n",
    "plt.show()"
   ]
  },
  {
   "cell_type": "markdown",
   "metadata": {
    "id": "7WqVatWSjF0n"
   },
   "source": [
    "<br>\n",
    "<br>\n",
    "<br>\n",
    "<br>\n",
    "<br>\n",
    "<br>\n",
    "<br>\n",
    "<br>\n",
    "<br>\n",
    "<br>\n",
    "\n",
    "# <font color=\"red\"> <font size=\"10px\"> EVALUATING THE MODELS </font>\n",
    "\n",
    "- Compare the models by using Validation Set"
   ]
  },
  {
   "cell_type": "markdown",
   "metadata": {
    "id": "EnoAAgssYePK"
   },
   "source": [
    "<br>\n",
    "<br>\n",
    "\n",
    "\n",
    "## <font color=\"orange\"> <font size=\"5px\"> Optimizing the models by threshold tuning  </font>"
   ]
  },
  {
   "cell_type": "markdown",
   "metadata": {
    "id": "BpZ9r9R8Y3-N"
   },
   "source": [
    "- The activation function of our single output perceptron is \"sigmoid function\". Therefore, the output values will be in the range of 0-1; by rounding these values to the closest boundry (0 or 1), we will obtain our predictions\n",
    "\n",
    "<br>\n",
    "\n",
    "- Sensitivity = True Positive Rate. In this context, it should be maximized <br>\n",
    "  Specificity = True Negative Rate. In this context, it should be a value that is close to 0.999 "
   ]
  },
  {
   "cell_type": "code",
   "execution_count": null,
   "metadata": {
    "id": "pnUlQqNphxDv"
   },
   "outputs": [],
   "source": [
    "###############################\n",
    "# Decision Tree - Calculations\n",
    "###############################\n",
    "\n",
    "specificities_decisiontree = []\n",
    "sensitivities_decisiontree = []\n",
    "\n",
    "for threshold_decisiontree in range(50, 101):\n",
    "  threshold_decisiontree = threshold_decisiontree / 100\n",
    "  \n",
    "  # Obtain \"prediction values\" for the Validation Set   \n",
    "  predictions_decisiontree = optimalmodel_decisiontree.predict_proba(X_val)[:, 1] >= threshold_decisiontree \n",
    "\n",
    "  # Create the Confusion Matrix\n",
    "  confusionmatrix_decisiontree = confusion_matrix(y_val,                                                         \n",
    "                                                  predictions_decisiontree)\n",
    "                      \n",
    "  # Extract the 4 elements of the confusion matrix\n",
    "  TP_decisiontree = confusionmatrix_decisiontree[1, 1]\n",
    "  TN_decisiontree = confusionmatrix_decisiontree[0, 0]\n",
    "  FP_decisiontree = confusionmatrix_decisiontree[0, 1]\n",
    "  FN_decisiontree = confusionmatrix_decisiontree[1, 0]\n",
    "\n",
    "  # Calculate the metrics and append\n",
    "  specificity_decisiontree = round(TN_decisiontree/(TN_decisiontree + FP_decisiontree), 2)\n",
    "  specificities_decisiontree.append(specificity_decisiontree)\n",
    "  sensitivity_decisiontree = round(TP_decisiontree/(TP_decisiontree + FN_decisiontree), 2)\n",
    "  sensitivities_decisiontree.append(sensitivity_decisiontree)"
   ]
  },
  {
   "cell_type": "code",
   "execution_count": null,
   "metadata": {
    "colab": {
     "base_uri": "https://localhost:8080/",
     "height": 378
    },
    "id": "eG70j34WuHHF",
    "outputId": "b7ff5a6f-482d-4975-b7ac-9a1b0c4c1d82"
   },
   "outputs": [
    {
     "data": {
      "image/png": "[encoded data removed]",
      "text/plain": [
       "<Figure size 1080x360 with 1 Axes>"
      ]
     },
     "metadata": {
      "tags": []
     },
     "output_type": "display_data"
    }
   ],
   "source": [
    "#################################\n",
    "# Decision Tree - Threshold Plot\n",
    "#################################\n",
    "\n",
    "fig, ax = plt.subplots(figsize=(15, 5))\n",
    "\n",
    "xaxis_values = [threshold/100 for threshold in range(50,101)]\n",
    "\n",
    "plt.plot(xaxis_values,\n",
    "         specificities_decisiontree,\n",
    "         label=\"Specificity\",\n",
    "         marker=\"o\")\n",
    "\n",
    "plt.plot(xaxis_values,\n",
    "         sensitivities_decisiontree,\n",
    "         label=\"Sensitivity\",\n",
    "         marker=\"o\")\n",
    "\n",
    "\n",
    "# Title + Axis Labels\n",
    "plt.title(\"Values of the metrics by threshold values\",\n",
    "          fontsize=40,\n",
    "          color=\"#AA0A7E\")\n",
    "\n",
    "plt.xlabel(\"Thresholds\",\n",
    "           fontsize=15,\n",
    "           color=\"#750B9C\")\n",
    "\n",
    "plt.ylabel(\"Metric value\",\n",
    "           fontsize=15,\n",
    "           color=\"#750B9C\")\n",
    "\n",
    "plt.xticks(np.arange(min(xaxis_values), \n",
    "                     max(xaxis_values) + 0.05, \n",
    "                     0.05))\n",
    "\n",
    "plt.legend()\n",
    "\n",
    "plt.show()"
   ]
  },
  {
   "cell_type": "code",
   "execution_count": null,
   "metadata": {
    "colab": {
     "base_uri": "https://localhost:8080/"
    },
    "id": "gfA8Kw1n7Uap",
    "outputId": "7c21ffc8-66ca-4407-99bc-56873a8b0a19"
   },
   "outputs": [
    {
     "name": "stdout",
     "output_type": "stream",
     "text": [
      "Specificity for 0.81 threshold ----> 0.95\n",
      "Sensitivity for 0.81 threshold ----> 0.79\n"
     ]
    }
   ],
   "source": [
    "# 0.81 - Metric values\n",
    "print(\"Specificity for 0.81 threshold ----> \" +\n",
    "      str(specificities_decisiontree[xaxis_values.index(0.81)])\n",
    "     )\n",
    "\n",
    "print(\"Sensitivity for 0.81 threshold ----> \" +\n",
    "      str(sensitivities_decisiontree[xaxis_values.index(0.81)])\n",
    "     )"
   ]
  },
  {
   "cell_type": "code",
   "execution_count": null,
   "metadata": {
    "id": "F2vtleiwYlC2"
   },
   "outputs": [],
   "source": [
    "###########################################\n",
    "# Artificial Neural Network - Calculations\n",
    "###########################################\n",
    "\n",
    "specificities_ann = []\n",
    "sensitivities_ann = []\n",
    "\n",
    "for threshold_ann in range(50, 101):\n",
    "  threshold_ann = threshold_ann / 100\n",
    "  \n",
    "  # Obtain \"prediction values\" for the Validation Set   \n",
    "  predictions_ann = (optimalmodel_ann.predict(X_val_scaled) >= threshold_ann).astype(\"int32\") \n",
    "\n",
    "  # Create the Confusion Matrix\n",
    "  confusionmatrix_ann = confusion_matrix(y_val,                                                         \n",
    "                                         predictions_ann)\n",
    "                      \n",
    "  # Extract the 4 elements of the confusion matrix\n",
    "  TP_ann = confusionmatrix_ann[1, 1]\n",
    "  TN_ann = confusionmatrix_ann[0, 0]\n",
    "  FP_ann = confusionmatrix_ann[0, 1]\n",
    "  FN_ann = confusionmatrix_ann[1, 0]\n",
    "\n",
    "  # Calculate the metrics and append\n",
    "  specificity_ann = round(TN_ann/(TN_ann + FP_ann), 2)\n",
    "  specificities_ann.append(specificity_ann)\n",
    "  \n",
    "  sensitivity_ann = round(TP_ann/(TP_ann + FN_ann), 2)\n",
    "  sensitivities_ann.append(sensitivity_ann)"
   ]
  },
  {
   "cell_type": "code",
   "execution_count": null,
   "metadata": {
    "colab": {
     "base_uri": "https://localhost:8080/",
     "height": 378
    },
    "id": "XjDETj_P6SKD",
    "outputId": "31f8d3f6-57d8-48a2-87c8-3e434bc32c25"
   },
   "outputs": [
    {
     "data": {
      "image/png": "[encoded data removed]",
      "text/plain": [
       "<Figure size 1080x360 with 1 Axes>"
      ]
     },
     "metadata": {
      "tags": []
     },
     "output_type": "display_data"
    }
   ],
   "source": [
    "#############################################\n",
    "# Artificial Neural Network - Threshold Plot\n",
    "#############################################\n",
    "\n",
    "fig, ax = plt.subplots(figsize=(15, 5))\n",
    "\n",
    "xaxis_values = [threshold/100 for threshold in range(50,101)]\n",
    "\n",
    "plt.plot(xaxis_values,\n",
    "         specificities_ann,\n",
    "         label=\"Specificity\",\n",
    "         marker=\"o\")\n",
    "\n",
    "plt.plot(xaxis_values,\n",
    "         sensitivities_ann,\n",
    "         label=\"Sensitivity\",\n",
    "         marker=\"o\")\n",
    "\n",
    "\n",
    "# Title + Axis Labels\n",
    "plt.title(\"Values of the metrics by threshold values\",\n",
    "          fontsize=40,\n",
    "          color=\"#AA0A7E\")\n",
    "\n",
    "plt.xlabel(\"Thresholds\",\n",
    "           fontsize=15,\n",
    "           color=\"#750B9C\")\n",
    "\n",
    "plt.ylabel(\"Metric value\",\n",
    "           fontsize=15,\n",
    "           color=\"#750B9C\")\n",
    "\n",
    "plt.xticks(np.arange(min(xaxis_values), \n",
    "                     max(xaxis_values) + 0.05, \n",
    "                     0.05))\n",
    "\n",
    "plt.legend()\n",
    "\n",
    "plt.show()"
   ]
  },
  {
   "cell_type": "code",
   "execution_count": null,
   "metadata": {
    "colab": {
     "base_uri": "https://localhost:8080/"
    },
    "id": "B6nhuhlI62ry",
    "outputId": "017ac5c7-3d9a-49d1-f30e-935d7b0e17df"
   },
   "outputs": [
    {
     "name": "stdout",
     "output_type": "stream",
     "text": [
      "Specificity for 0.88 threshold ----> 0.97\n",
      "Sensitivity for 0.88 threshold ----> 0.68\n"
     ]
    }
   ],
   "source": [
    "# Metric values for threshold values\n",
    "\n",
    "tvalue = 0.88\n",
    "\n",
    "print(\"Specificity for \" + str(tvalue) + \" threshold ----> \" + str(specificities_ann[xaxis_values.index(tvalue)]))\n",
    "\n",
    "print(\"Sensitivity for \" + str(tvalue) + \" threshold ----> \" + str(sensitivities_ann[xaxis_values.index(tvalue)]))"
   ]
  },
  {
   "cell_type": "markdown",
   "metadata": {
    "id": "4zD77v0Ja7ea"
   },
   "source": [
    "<br>\n",
    "<br>\n",
    "<br>\n",
    "<br>\n",
    "\n",
    "## <font color=\"orange\"> <font size=\"5px\"> Confusion Matrix plotting for final models  </font>"
   ]
  },
  {
   "cell_type": "code",
   "execution_count": null,
   "metadata": {
    "colab": {
     "base_uri": "https://localhost:8080/",
     "height": 570
    },
    "id": "PDqPyPFqa5Wf",
    "outputId": "6268cb00-f7b8-4d6d-aba3-c4cf41136d51"
   },
   "outputs": [
    {
     "data": {
      "text/plain": [
       "<sklearn.metrics._plot.confusion_matrix.ConfusionMatrixDisplay at 0x7f4ba44f2210>"
      ]
     },
     "execution_count": 232,
     "metadata": {
      "tags": []
     },
     "output_type": "execute_result"
    },
    {
     "data": {
      "image/png": "[encoded data removed]",
      "text/plain": [
       "<Figure size 432x288 with 2 Axes>"
      ]
     },
     "metadata": {
      "tags": []
     },
     "output_type": "display_data"
    },
    {
     "data": {
      "image/png": "[encoded data removed]",
      "text/plain": [
       "<Figure size 432x288 with 2 Axes>"
      ]
     },
     "metadata": {
      "tags": []
     },
     "output_type": "display_data"
    }
   ],
   "source": [
    "################\n",
    "# Decision Tree\n",
    "################\n",
    "\n",
    "# Obtain \"prediction values\" for the Validation Set   \n",
    "predictions_decisiontree = optimalmodel_decisiontree.predict_proba(X_val)[:, 1] >= 0.91\n",
    "\n",
    "# Create the Confusion Matrix\n",
    "confusionmatrix_decisiontree = confusion_matrix(y_val,                                                         \n",
    "                                                predictions_decisiontree)\n",
    "\n",
    "confusionmatrix_decisiontree_plot = ConfusionMatrixDisplay(confusionmatrix_decisiontree, \n",
    "                                                           display_labels = [\"Acceptable\", \"Spam\"],\n",
    "                                                           )\n",
    "confusionmatrix_decisiontree_plot.plot(cmap=\"Blues\",                                                   # Only 1 color will be used to create a clear plot\n",
    "                                       values_format='')                                               # Scientific notation will not be used to display the numbers\n",
    "\n",
    "\n",
    "############################\n",
    "# Artificial Neural Network\n",
    "############################\n",
    "\n",
    "# Obtain \"prediction values\" for the Validation Set   \n",
    "predictions_ann = (optimalmodel_ann.predict(X_val_scaled) >= 0.78).astype(\"int32\") \n",
    "\n",
    "# Create the Confusion Matrix\n",
    "confusionmatrix_ann = confusion_matrix(y_val,                                                         \n",
    "                                      predictions_ann)\n",
    "\n",
    "confusionmatrix_ann_plot = ConfusionMatrixDisplay(confusionmatrix_ann, \n",
    "                                                  display_labels = [\"Acceptable\", \"Spam\"],\n",
    "                                                  )\n",
    "confusionmatrix_ann_plot.plot(cmap=\"Blues\",                                                            # Only 1 color will be used to create a clear plot\n",
    "                              values_format='')                                                        # Scientific notation will not be used to display the numbers"
   ]
  },
  {
   "cell_type": "markdown",
   "metadata": {
    "id": "Ubp_ouPKdCum"
   },
   "source": [
    "- Number of Acceptable mails = 506 (450 of them are correctly classified)\n",
    "- Number of Spam mails = 336 (300 of them are correctly classified)\n",
    "<br>\n",
    "\n",
    "- We will try to optimize the Confusion Matrix"
   ]
  },
  {
   "cell_type": "markdown",
   "metadata": {
    "id": "TpPLSXGONtSE"
   },
   "source": [
    "<br>\n",
    "<br>\n",
    "<br>\n",
    "<br>\n",
    "\n",
    "## <font color=\"orange\"> <font size=\"5px\"> Accuracy  </font>"
   ]
  },
  {
   "cell_type": "code",
   "execution_count": null,
   "metadata": {
    "colab": {
     "base_uri": "https://localhost:8080/"
    },
    "id": "gMmQ784KUbxu",
    "outputId": "cff0b33e-78a5-49dd-9b8e-50e681ff6e9c"
   },
   "outputs": [
    {
     "name": "stdout",
     "output_type": "stream",
     "text": [
      "Null accuracy ---> 0.6\n"
     ]
    }
   ],
   "source": [
    "############################\n",
    "# Null accuracy calculation\n",
    "############################\n",
    "\n",
    "a = y_val.value_counts()                                 # Number of \"0\" = 506, Number of \"1\" = 336\n",
    "\n",
    "\n",
    "# Percentage calculation\n",
    "percentage_acceptable = round(a[0] / (a[0] + a[1]), 2)\n",
    "percentage_spam       = round(a[1] / (a[0] + a[1]), 2)\n",
    "\n",
    "\n",
    "# Null accuracy calculation\n",
    "print(\"Null accuracy ---> \" + str(max(percentage_acceptable, percentage_spam)))"
   ]
  },
  {
   "cell_type": "code",
   "execution_count": null,
   "metadata": {
    "colab": {
     "base_uri": "https://localhost:8080/"
    },
    "id": "4PSHy4UFC-wu",
    "outputId": "70a1f42f-056a-4e18-c237-1b9bc6e34133"
   },
   "outputs": [
    {
     "name": "stdout",
     "output_type": "stream",
     "text": [
      "Validation Accuracy of Decision Tree model             ---> 0.83\n",
      "Validation Accuracy of Artificial Neural Network model ---> 0.88\n"
     ]
    }
   ],
   "source": [
    "accuracy_decisiontree = accuracy_score(y_val, \n",
    "                                       predictions_decisiontree)\n",
    "\n",
    "accuracy_ann          = accuracy_score(y_val,\n",
    "                                       predictions_ann)\n",
    "\n",
    "\n",
    "print(\"Validation Accuracy of Decision Tree model             ---> \" + str(round(accuracy_decisiontree, 2)))\n",
    "print(\"Validation Accuracy of Artificial Neural Network model ---> \" + str(round(accuracy_ann, 2)))"
   ]
  },
  {
   "cell_type": "markdown",
   "metadata": {
    "id": "fTUOUr-Gcfb-"
   },
   "source": [
    "- Both of the models have a validation accuracy value much higher than the Null Accuracy value. Therefore, models are valid in terms of Accuracy metric"
   ]
  },
  {
   "cell_type": "markdown",
   "metadata": {
    "id": "Z5RNQE4L--10"
   },
   "source": [
    "<br>\n",
    "<br>\n",
    "<br>\n",
    "<br>\n",
    "<br>\n",
    "<br>\n",
    "<br>\n",
    "<br>\n",
    "<br>\n",
    "<br>\n",
    "\n",
    "# <font color=\"red\"> <font size=\"10px\"> UNBIASED EVALUATION </font>\n",
    "\n",
    "- Artificial Neural Network model was chosen."
   ]
  },
  {
   "cell_type": "code",
   "execution_count": null,
   "metadata": {
    "colab": {
     "base_uri": "https://localhost:8080/",
     "height": 302
    },
    "id": "osBj4pgS_lJO",
    "outputId": "17c83d47-f965-4cfc-9668-5d01a6ee1860"
   },
   "outputs": [
    {
     "data": {
      "text/plain": [
       "<sklearn.metrics._plot.confusion_matrix.ConfusionMatrixDisplay at 0x7f4ba45417d0>"
      ]
     },
     "execution_count": 239,
     "metadata": {
      "tags": []
     },
     "output_type": "execute_result"
    },
    {
     "data": {
      "image/png": "[encoded data removed]",
      "text/plain": [
       "<Figure size 432x288 with 2 Axes>"
      ]
     },
     "metadata": {
      "tags": []
     },
     "output_type": "display_data"
    }
   ],
   "source": [
    "############################\n",
    "# Artificial Neural Network\n",
    "############################\n",
    "\n",
    "# Obtain \"prediction values\" for the Testing set   \n",
    "predictions_ann = (optimalmodel_ann.predict(X_test_scaled) >= 0.78).astype(\"int32\") \n",
    "\n",
    "# Create the Confusion Matrix\n",
    "confusionmatrix_ann = confusion_matrix(y_test,                                                         \n",
    "                                       predictions_ann)\n",
    "\n",
    "confusionmatrix_ann_plot = ConfusionMatrixDisplay(confusionmatrix_ann, \n",
    "                                                  display_labels = [\"Acceptable\", \"Spam\"],\n",
    "                                                  )\n",
    "confusionmatrix_ann_plot.plot(cmap=\"Blues\",                                                            # Only 1 color will be used to create a clear plot\n",
    "                              values_format='')                                                        # Scientific notation will not be used to display the numbers"
   ]
  }
 ],
 "metadata": {
  "colab": {
   "collapsed_sections": [],
   "name": "_______TERM PROJECT",
   "provenance": []
  },
  "kernelspec": {
   "display_name": "Python 3",
   "language": "python",
   "name": "python3"
  },
  "language_info": {
   "codemirror_mode": {
    "name": "ipython",
    "version": 3
   },
   "file_extension": ".py",
   "mimetype": "text/x-python",
   "name": "python",
   "nbconvert_exporter": "python",
   "pygments_lexer": "ipython3",
   "version": "3.8.5"
  }
 },
 "nbformat": 4,
 "nbformat_minor": 1
}
